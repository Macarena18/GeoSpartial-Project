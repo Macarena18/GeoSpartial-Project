{
 "cells": [
  {
   "cell_type": "markdown",
   "metadata": {},
   "source": [
    "# Office  Location Election:"
   ]
  },
  {
   "cell_type": "code",
   "execution_count": 1,
   "metadata": {},
   "outputs": [],
   "source": [
    "import pandas as pd\n",
    "import requests\n",
    "import os\n",
    "from dotenv import load_dotenv\n",
    "from pymongo import MongoClient\n",
    "from pandas.io.json import json_normalize\n",
    "import numpy as np\n",
    "from API import *\n",
    "from geopy.distance import geodesic"
   ]
  },
  {
   "cell_type": "code",
   "execution_count": 2,
   "metadata": {},
   "outputs": [
    {
     "name": "stdout",
     "output_type": "stream",
     "text": [
      "mongodb://localhost/companies\n"
     ]
    }
   ],
   "source": [
    "dbName = \"companies\"\n",
    "mongodbURL = f\"mongodb://localhost/{dbName}\"\n",
    "print(mongodbURL)\n",
    "client = MongoClient(mongodbURL, connectTimeoutMS=2000,serverSelectionTimeoutMS=2000)\n",
    "db = client.get_database()"
   ]
  },
  {
   "cell_type": "markdown",
   "metadata": {},
   "source": [
    "**Importamos database con los offices y los requirements en Seattle:**"
   ]
  },
  {
   "cell_type": "code",
   "execution_count": 3,
   "metadata": {},
   "outputs": [
    {
     "data": {
      "text/html": [
       "<div>\n",
       "<style scoped>\n",
       "    .dataframe tbody tr th:only-of-type {\n",
       "        vertical-align: middle;\n",
       "    }\n",
       "\n",
       "    .dataframe tbody tr th {\n",
       "        vertical-align: top;\n",
       "    }\n",
       "\n",
       "    .dataframe thead th {\n",
       "        text-align: right;\n",
       "    }\n",
       "</style>\n",
       "<table border=\"1\" class=\"dataframe\">\n",
       "  <thead>\n",
       "    <tr style=\"text-align: right;\">\n",
       "      <th></th>\n",
       "      <th>_id</th>\n",
       "      <th>name</th>\n",
       "      <th>office</th>\n",
       "      <th>latitude</th>\n",
       "      <th>longitude</th>\n",
       "    </tr>\n",
       "  </thead>\n",
       "  <tbody>\n",
       "    <tr>\n",
       "      <th>0</th>\n",
       "      <td>5e9daab889b0742b61c6cfc3</td>\n",
       "      <td>PayScale</td>\n",
       "      <td>{'type': 'Point', 'coordinates': [-122.3276962...</td>\n",
       "      <td>47.599934</td>\n",
       "      <td>-122.327696</td>\n",
       "    </tr>\n",
       "    <tr>\n",
       "      <th>1</th>\n",
       "      <td>5e9daab889b0742b61c6cfc4</td>\n",
       "      <td>Wetpaint</td>\n",
       "      <td>{'type': 'Point', 'coordinates': [-73.9964312,...</td>\n",
       "      <td>40.723731</td>\n",
       "      <td>-73.996431</td>\n",
       "    </tr>\n",
       "    <tr>\n",
       "      <th>2</th>\n",
       "      <td>5e9daab889b0742b61c6cfc5</td>\n",
       "      <td>Shock Treatment Management</td>\n",
       "      <td>{'type': 'Point', 'coordinates': [-122.339859,...</td>\n",
       "      <td>47.610332</td>\n",
       "      <td>-122.339859</td>\n",
       "    </tr>\n",
       "    <tr>\n",
       "      <th>3</th>\n",
       "      <td>5e9daab889b0742b61c6cfc6</td>\n",
       "      <td>GoChongo</td>\n",
       "      <td>{'type': 'Point', 'coordinates': [-95.712891, ...</td>\n",
       "      <td>37.090240</td>\n",
       "      <td>-95.712891</td>\n",
       "    </tr>\n",
       "    <tr>\n",
       "      <th>4</th>\n",
       "      <td>5e9daab889b0742b61c6cfc7</td>\n",
       "      <td>Wetpaint</td>\n",
       "      <td>{'type': 'Point', 'coordinates': [-122.333253,...</td>\n",
       "      <td>47.603122</td>\n",
       "      <td>-122.333253</td>\n",
       "    </tr>\n",
       "  </tbody>\n",
       "</table>\n",
       "</div>"
      ],
      "text/plain": [
       "                        _id                        name  \\\n",
       "0  5e9daab889b0742b61c6cfc3                    PayScale   \n",
       "1  5e9daab889b0742b61c6cfc4                    Wetpaint   \n",
       "2  5e9daab889b0742b61c6cfc5  Shock Treatment Management   \n",
       "3  5e9daab889b0742b61c6cfc6                    GoChongo   \n",
       "4  5e9daab889b0742b61c6cfc7                    Wetpaint   \n",
       "\n",
       "                                              office   latitude   longitude  \n",
       "0  {'type': 'Point', 'coordinates': [-122.3276962...  47.599934 -122.327696  \n",
       "1  {'type': 'Point', 'coordinates': [-73.9964312,...  40.723731  -73.996431  \n",
       "2  {'type': 'Point', 'coordinates': [-122.339859,...  47.610332 -122.339859  \n",
       "3  {'type': 'Point', 'coordinates': [-95.712891, ...  37.090240  -95.712891  \n",
       "4  {'type': 'Point', 'coordinates': [-122.333253,...  47.603122 -122.333253  "
      ]
     },
     "execution_count": 3,
     "metadata": {},
     "output_type": "execute_result"
    }
   ],
   "source": [
    "data=list(db.offices_seattle.find({},{\"name\":1,\"office\":1,\"latitude\":1,\"longitude\":1}))\n",
    "office_location = pd.DataFrame(data)\n",
    "office_location.head()\n"
   ]
  },
  {
   "cell_type": "code",
   "execution_count": 4,
   "metadata": {},
   "outputs": [
    {
     "data": {
      "text/html": [
       "<div>\n",
       "<style scoped>\n",
       "    .dataframe tbody tr th:only-of-type {\n",
       "        vertical-align: middle;\n",
       "    }\n",
       "\n",
       "    .dataframe tbody tr th {\n",
       "        vertical-align: top;\n",
       "    }\n",
       "\n",
       "    .dataframe thead th {\n",
       "        text-align: right;\n",
       "    }\n",
       "</style>\n",
       "<table border=\"1\" class=\"dataframe\">\n",
       "  <thead>\n",
       "    <tr style=\"text-align: right;\">\n",
       "      <th></th>\n",
       "      <th>_id</th>\n",
       "      <th>name</th>\n",
       "      <th>latitude</th>\n",
       "      <th>longitude</th>\n",
       "      <th>location</th>\n",
       "    </tr>\n",
       "  </thead>\n",
       "  <tbody>\n",
       "    <tr>\n",
       "      <th>0</th>\n",
       "      <td>5e9dbe06c55e0b470352be22</td>\n",
       "      <td>Starbucks</td>\n",
       "      <td>47.619373</td>\n",
       "      <td>-122.324992</td>\n",
       "      <td>{'type': 'Point', 'coordinates': [-122.324992,...</td>\n",
       "    </tr>\n",
       "    <tr>\n",
       "      <th>1</th>\n",
       "      <td>5e9dbe06c55e0b470352be23</td>\n",
       "      <td>Starbucks</td>\n",
       "      <td>47.610021</td>\n",
       "      <td>-122.342583</td>\n",
       "      <td>{'type': 'Point', 'coordinates': [-122.342583,...</td>\n",
       "    </tr>\n",
       "    <tr>\n",
       "      <th>2</th>\n",
       "      <td>5e9dbe06c55e0b470352be24</td>\n",
       "      <td>Starbucks</td>\n",
       "      <td>47.607171</td>\n",
       "      <td>-122.309950</td>\n",
       "      <td>{'type': 'Point', 'coordinates': [-122.30995, ...</td>\n",
       "    </tr>\n",
       "    <tr>\n",
       "      <th>3</th>\n",
       "      <td>5e9dbe06c55e0b470352be25</td>\n",
       "      <td>Starbucks</td>\n",
       "      <td>47.621040</td>\n",
       "      <td>-122.350774</td>\n",
       "      <td>{'type': 'Point', 'coordinates': [-122.3507743...</td>\n",
       "    </tr>\n",
       "    <tr>\n",
       "      <th>4</th>\n",
       "      <td>5e9dbe06c55e0b470352be26</td>\n",
       "      <td>Starbucks</td>\n",
       "      <td>47.634139</td>\n",
       "      <td>-122.280731</td>\n",
       "      <td>{'type': 'Point', 'coordinates': [-122.280731,...</td>\n",
       "    </tr>\n",
       "  </tbody>\n",
       "</table>\n",
       "</div>"
      ],
      "text/plain": [
       "                        _id       name   latitude   longitude  \\\n",
       "0  5e9dbe06c55e0b470352be22  Starbucks  47.619373 -122.324992   \n",
       "1  5e9dbe06c55e0b470352be23  Starbucks  47.610021 -122.342583   \n",
       "2  5e9dbe06c55e0b470352be24  Starbucks  47.607171 -122.309950   \n",
       "3  5e9dbe06c55e0b470352be25  Starbucks  47.621040 -122.350774   \n",
       "4  5e9dbe06c55e0b470352be26  Starbucks  47.634139 -122.280731   \n",
       "\n",
       "                                            location  \n",
       "0  {'type': 'Point', 'coordinates': [-122.324992,...  \n",
       "1  {'type': 'Point', 'coordinates': [-122.342583,...  \n",
       "2  {'type': 'Point', 'coordinates': [-122.30995, ...  \n",
       "3  {'type': 'Point', 'coordinates': [-122.3507743...  \n",
       "4  {'type': 'Point', 'coordinates': [-122.280731,...  "
      ]
     },
     "execution_count": 4,
     "metadata": {},
     "output_type": "execute_result"
    }
   ],
   "source": [
    "data=list(db.starbucks_data.find({},{\"name\":1,\"location\":1,\"latitude\":1,\"longitude\":1}))\n",
    "starbucks_location = pd.DataFrame(data)\n",
    "starbucks_location.head()\n"
   ]
  },
  {
   "cell_type": "code",
   "execution_count": 5,
   "metadata": {},
   "outputs": [
    {
     "data": {
      "text/html": [
       "<div>\n",
       "<style scoped>\n",
       "    .dataframe tbody tr th:only-of-type {\n",
       "        vertical-align: middle;\n",
       "    }\n",
       "\n",
       "    .dataframe tbody tr th {\n",
       "        vertical-align: top;\n",
       "    }\n",
       "\n",
       "    .dataframe thead th {\n",
       "        text-align: right;\n",
       "    }\n",
       "</style>\n",
       "<table border=\"1\" class=\"dataframe\">\n",
       "  <thead>\n",
       "    <tr style=\"text-align: right;\">\n",
       "      <th></th>\n",
       "      <th>_id</th>\n",
       "      <th>name</th>\n",
       "      <th>latitude</th>\n",
       "      <th>longitude</th>\n",
       "      <th>location</th>\n",
       "    </tr>\n",
       "  </thead>\n",
       "  <tbody>\n",
       "    <tr>\n",
       "      <th>0</th>\n",
       "      <td>5e9dc901c8360ea27540a3bc</td>\n",
       "      <td>1001 Fourth Avenue Plaza Heliport</td>\n",
       "      <td>47.606130</td>\n",
       "      <td>-122.333849</td>\n",
       "      <td>{'type': 'Point', 'coordinates': [-122.3338494...</td>\n",
       "    </tr>\n",
       "    <tr>\n",
       "      <th>1</th>\n",
       "      <td>5e9dc901c8360ea27540a3bd</td>\n",
       "      <td>King County International Airport</td>\n",
       "      <td>47.528166</td>\n",
       "      <td>-122.301826</td>\n",
       "      <td>{'type': 'Point', 'coordinates': [-122.3018264...</td>\n",
       "    </tr>\n",
       "    <tr>\n",
       "      <th>2</th>\n",
       "      <td>5e9dc901c8360ea27540a3be</td>\n",
       "      <td>Lake Union Heliport</td>\n",
       "      <td>47.652052</td>\n",
       "      <td>-122.323119</td>\n",
       "      <td>{'type': 'Point', 'coordinates': [-122.323119,...</td>\n",
       "    </tr>\n",
       "    <tr>\n",
       "      <th>3</th>\n",
       "      <td>5e9dc901c8360ea27540a3bf</td>\n",
       "      <td>King County International Airport Airpark Hangars</td>\n",
       "      <td>47.520570</td>\n",
       "      <td>-122.298924</td>\n",
       "      <td>{'type': 'Point', 'coordinates': [-122.2989238...</td>\n",
       "    </tr>\n",
       "    <tr>\n",
       "      <th>4</th>\n",
       "      <td>5e9dc901c8360ea27540a3c0</td>\n",
       "      <td>Signature Flight Support BFI - Boeing Field/Ki...</td>\n",
       "      <td>47.537634</td>\n",
       "      <td>-122.304032</td>\n",
       "      <td>{'type': 'Point', 'coordinates': [-122.3040317...</td>\n",
       "    </tr>\n",
       "  </tbody>\n",
       "</table>\n",
       "</div>"
      ],
      "text/plain": [
       "                        _id  \\\n",
       "0  5e9dc901c8360ea27540a3bc   \n",
       "1  5e9dc901c8360ea27540a3bd   \n",
       "2  5e9dc901c8360ea27540a3be   \n",
       "3  5e9dc901c8360ea27540a3bf   \n",
       "4  5e9dc901c8360ea27540a3c0   \n",
       "\n",
       "                                                name   latitude   longitude  \\\n",
       "0                  1001 Fourth Avenue Plaza Heliport  47.606130 -122.333849   \n",
       "1                  King County International Airport  47.528166 -122.301826   \n",
       "2                                Lake Union Heliport  47.652052 -122.323119   \n",
       "3  King County International Airport Airpark Hangars  47.520570 -122.298924   \n",
       "4  Signature Flight Support BFI - Boeing Field/Ki...  47.537634 -122.304032   \n",
       "\n",
       "                                            location  \n",
       "0  {'type': 'Point', 'coordinates': [-122.3338494...  \n",
       "1  {'type': 'Point', 'coordinates': [-122.3018264...  \n",
       "2  {'type': 'Point', 'coordinates': [-122.323119,...  \n",
       "3  {'type': 'Point', 'coordinates': [-122.2989238...  \n",
       "4  {'type': 'Point', 'coordinates': [-122.3040317...  "
      ]
     },
     "execution_count": 5,
     "metadata": {},
     "output_type": "execute_result"
    }
   ],
   "source": [
    "data=list(db.transport_data.find({},{\"name\":1,\"location\":1,\"latitude\":1,\"longitude\":1}))\n",
    "transport_location = pd.DataFrame(data)\n",
    "transport_location.head()"
   ]
  },
  {
   "cell_type": "code",
   "execution_count": 6,
   "metadata": {},
   "outputs": [
    {
     "data": {
      "text/html": [
       "<div>\n",
       "<style scoped>\n",
       "    .dataframe tbody tr th:only-of-type {\n",
       "        vertical-align: middle;\n",
       "    }\n",
       "\n",
       "    .dataframe tbody tr th {\n",
       "        vertical-align: top;\n",
       "    }\n",
       "\n",
       "    .dataframe thead th {\n",
       "        text-align: right;\n",
       "    }\n",
       "</style>\n",
       "<table border=\"1\" class=\"dataframe\">\n",
       "  <thead>\n",
       "    <tr style=\"text-align: right;\">\n",
       "      <th></th>\n",
       "      <th>_id</th>\n",
       "      <th>name</th>\n",
       "      <th>latitude</th>\n",
       "      <th>longitude</th>\n",
       "      <th>location</th>\n",
       "    </tr>\n",
       "  </thead>\n",
       "  <tbody>\n",
       "    <tr>\n",
       "      <th>0</th>\n",
       "      <td>5e9dc8f99407e6198df7a5ef</td>\n",
       "      <td>Petra Mediterranean Bistro</td>\n",
       "      <td>47.616684</td>\n",
       "      <td>-122.346531</td>\n",
       "      <td>{'type': 'Point', 'coordinates': [-122.3465311...</td>\n",
       "    </tr>\n",
       "    <tr>\n",
       "      <th>1</th>\n",
       "      <td>5e9dc8f99407e6198df7a5f0</td>\n",
       "      <td>Pantry by Plum</td>\n",
       "      <td>47.621221</td>\n",
       "      <td>-122.350860</td>\n",
       "      <td>{'type': 'Point', 'coordinates': [-122.3508600...</td>\n",
       "    </tr>\n",
       "    <tr>\n",
       "      <th>2</th>\n",
       "      <td>5e9dc8f99407e6198df7a5f1</td>\n",
       "      <td>Plum Bistro</td>\n",
       "      <td>47.613801</td>\n",
       "      <td>-122.316933</td>\n",
       "      <td>{'type': 'Point', 'coordinates': [-122.3169331...</td>\n",
       "    </tr>\n",
       "    <tr>\n",
       "      <th>3</th>\n",
       "      <td>5e9dc8f99407e6198df7a5f2</td>\n",
       "      <td>Kati Vegan Thai</td>\n",
       "      <td>47.620864</td>\n",
       "      <td>-122.333340</td>\n",
       "      <td>{'type': 'Point', 'coordinates': [-122.3333401...</td>\n",
       "    </tr>\n",
       "    <tr>\n",
       "      <th>4</th>\n",
       "      <td>5e9dc8f99407e6198df7a5f3</td>\n",
       "      <td>Chu Minh Tofu And Vegetarian Deli</td>\n",
       "      <td>47.598871</td>\n",
       "      <td>-122.317519</td>\n",
       "      <td>{'type': 'Point', 'coordinates': [-122.3175189...</td>\n",
       "    </tr>\n",
       "  </tbody>\n",
       "</table>\n",
       "</div>"
      ],
      "text/plain": [
       "                        _id                               name   latitude  \\\n",
       "0  5e9dc8f99407e6198df7a5ef         Petra Mediterranean Bistro  47.616684   \n",
       "1  5e9dc8f99407e6198df7a5f0                     Pantry by Plum  47.621221   \n",
       "2  5e9dc8f99407e6198df7a5f1                        Plum Bistro  47.613801   \n",
       "3  5e9dc8f99407e6198df7a5f2                    Kati Vegan Thai  47.620864   \n",
       "4  5e9dc8f99407e6198df7a5f3  Chu Minh Tofu And Vegetarian Deli  47.598871   \n",
       "\n",
       "    longitude                                           location  \n",
       "0 -122.346531  {'type': 'Point', 'coordinates': [-122.3465311...  \n",
       "1 -122.350860  {'type': 'Point', 'coordinates': [-122.3508600...  \n",
       "2 -122.316933  {'type': 'Point', 'coordinates': [-122.3169331...  \n",
       "3 -122.333340  {'type': 'Point', 'coordinates': [-122.3333401...  \n",
       "4 -122.317519  {'type': 'Point', 'coordinates': [-122.3175189...  "
      ]
     },
     "execution_count": 6,
     "metadata": {},
     "output_type": "execute_result"
    }
   ],
   "source": [
    "data=list(db.vegan_restaurants.find({},{\"name\":1,\"location\":1,\"latitude\":1,\"longitude\":1}))\n",
    "vegan_restaurants_location = pd.DataFrame(data)\n",
    "vegan_restaurants_location.head()"
   ]
  },
  {
   "cell_type": "code",
   "execution_count": 7,
   "metadata": {},
   "outputs": [
    {
     "data": {
      "text/html": [
       "<div>\n",
       "<style scoped>\n",
       "    .dataframe tbody tr th:only-of-type {\n",
       "        vertical-align: middle;\n",
       "    }\n",
       "\n",
       "    .dataframe tbody tr th {\n",
       "        vertical-align: top;\n",
       "    }\n",
       "\n",
       "    .dataframe thead th {\n",
       "        text-align: right;\n",
       "    }\n",
       "</style>\n",
       "<table border=\"1\" class=\"dataframe\">\n",
       "  <thead>\n",
       "    <tr style=\"text-align: right;\">\n",
       "      <th></th>\n",
       "      <th>_id</th>\n",
       "      <th>name</th>\n",
       "      <th>latitude</th>\n",
       "      <th>longitude</th>\n",
       "      <th>location</th>\n",
       "    </tr>\n",
       "  </thead>\n",
       "  <tbody>\n",
       "    <tr>\n",
       "      <th>0</th>\n",
       "      <td>5e9dbe1ec52e2c36cd0ca713</td>\n",
       "      <td>Fremont Community School</td>\n",
       "      <td>47.650103</td>\n",
       "      <td>-122.341050</td>\n",
       "      <td>{'type': 'Point', 'coordinates': [-122.3410501...</td>\n",
       "    </tr>\n",
       "    <tr>\n",
       "      <th>1</th>\n",
       "      <td>5e9dbe1ec52e2c36cd0ca714</td>\n",
       "      <td>The Andover School</td>\n",
       "      <td>47.580017</td>\n",
       "      <td>-122.385389</td>\n",
       "      <td>{'type': 'Point', 'coordinates': [-122.385389,...</td>\n",
       "    </tr>\n",
       "    <tr>\n",
       "      <th>2</th>\n",
       "      <td>5e9dbe1ec52e2c36cd0ca715</td>\n",
       "      <td>Secret Garden Preschool</td>\n",
       "      <td>47.621919</td>\n",
       "      <td>-122.297050</td>\n",
       "      <td>{'type': 'Point', 'coordinates': [-122.29705, ...</td>\n",
       "    </tr>\n",
       "    <tr>\n",
       "      <th>3</th>\n",
       "      <td>5e9dbe1ec52e2c36cd0ca716</td>\n",
       "      <td>Illuminate School</td>\n",
       "      <td>47.641495</td>\n",
       "      <td>-122.320651</td>\n",
       "      <td>{'type': 'Point', 'coordinates': [-122.3206511...</td>\n",
       "    </tr>\n",
       "    <tr>\n",
       "      <th>4</th>\n",
       "      <td>5e9dbe1ec52e2c36cd0ca717</td>\n",
       "      <td>Bright Horizons at Interbay</td>\n",
       "      <td>47.639610</td>\n",
       "      <td>-122.377320</td>\n",
       "      <td>{'type': 'Point', 'coordinates': [-122.3773201...</td>\n",
       "    </tr>\n",
       "  </tbody>\n",
       "</table>\n",
       "</div>"
      ],
      "text/plain": [
       "                        _id                         name   latitude  \\\n",
       "0  5e9dbe1ec52e2c36cd0ca713     Fremont Community School  47.650103   \n",
       "1  5e9dbe1ec52e2c36cd0ca714           The Andover School  47.580017   \n",
       "2  5e9dbe1ec52e2c36cd0ca715      Secret Garden Preschool  47.621919   \n",
       "3  5e9dbe1ec52e2c36cd0ca716            Illuminate School  47.641495   \n",
       "4  5e9dbe1ec52e2c36cd0ca717  Bright Horizons at Interbay  47.639610   \n",
       "\n",
       "    longitude                                           location  \n",
       "0 -122.341050  {'type': 'Point', 'coordinates': [-122.3410501...  \n",
       "1 -122.385389  {'type': 'Point', 'coordinates': [-122.385389,...  \n",
       "2 -122.297050  {'type': 'Point', 'coordinates': [-122.29705, ...  \n",
       "3 -122.320651  {'type': 'Point', 'coordinates': [-122.3206511...  \n",
       "4 -122.377320  {'type': 'Point', 'coordinates': [-122.3773201...  "
      ]
     },
     "execution_count": 7,
     "metadata": {},
     "output_type": "execute_result"
    }
   ],
   "source": [
    "data=list(db.schools_data.find({},{\"name\":1,\"location\":1,\"latitude\":1,\"longitude\":1}))\n",
    "schools_location = pd.DataFrame(data)\n",
    "schools_location.head()"
   ]
  },
  {
   "cell_type": "code",
   "execution_count": 8,
   "metadata": {},
   "outputs": [
    {
     "data": {
      "text/html": [
       "<div>\n",
       "<style scoped>\n",
       "    .dataframe tbody tr th:only-of-type {\n",
       "        vertical-align: middle;\n",
       "    }\n",
       "\n",
       "    .dataframe tbody tr th {\n",
       "        vertical-align: top;\n",
       "    }\n",
       "\n",
       "    .dataframe thead th {\n",
       "        text-align: right;\n",
       "    }\n",
       "</style>\n",
       "<table border=\"1\" class=\"dataframe\">\n",
       "  <thead>\n",
       "    <tr style=\"text-align: right;\">\n",
       "      <th></th>\n",
       "      <th>_id</th>\n",
       "      <th>name</th>\n",
       "      <th>latitude</th>\n",
       "      <th>longitude</th>\n",
       "      <th>location</th>\n",
       "    </tr>\n",
       "  </thead>\n",
       "  <tbody>\n",
       "    <tr>\n",
       "      <th>0</th>\n",
       "      <td>5e9dbe635b450111c52e5479</td>\n",
       "      <td>Flatstick Pub - Pioneer Square</td>\n",
       "      <td>47.600143</td>\n",
       "      <td>-122.331002</td>\n",
       "      <td>{'type': 'Point', 'coordinates': [-122.3310024...</td>\n",
       "    </tr>\n",
       "    <tr>\n",
       "      <th>1</th>\n",
       "      <td>5e9dbe635b450111c52e547a</td>\n",
       "      <td>McMenamins Six Arms</td>\n",
       "      <td>47.614108</td>\n",
       "      <td>-122.327767</td>\n",
       "      <td>{'type': 'Point', 'coordinates': [-122.3277668...</td>\n",
       "    </tr>\n",
       "    <tr>\n",
       "      <th>2</th>\n",
       "      <td>5e9dbe635b450111c52e547b</td>\n",
       "      <td>Elysian Capitol Hill Brewery</td>\n",
       "      <td>47.613939</td>\n",
       "      <td>-122.315894</td>\n",
       "      <td>{'type': 'Point', 'coordinates': [-122.3158939...</td>\n",
       "    </tr>\n",
       "    <tr>\n",
       "      <th>3</th>\n",
       "      <td>5e9dbe635b450111c52e547c</td>\n",
       "      <td>Elephant &amp; Castle</td>\n",
       "      <td>47.610045</td>\n",
       "      <td>-122.335570</td>\n",
       "      <td>{'type': 'Point', 'coordinates': [-122.3355698...</td>\n",
       "    </tr>\n",
       "    <tr>\n",
       "      <th>4</th>\n",
       "      <td>5e9dbe635b450111c52e547d</td>\n",
       "      <td>Hopvine Pub</td>\n",
       "      <td>47.623362</td>\n",
       "      <td>-122.312815</td>\n",
       "      <td>{'type': 'Point', 'coordinates': [-122.3128147...</td>\n",
       "    </tr>\n",
       "  </tbody>\n",
       "</table>\n",
       "</div>"
      ],
      "text/plain": [
       "                        _id                            name   latitude  \\\n",
       "0  5e9dbe635b450111c52e5479  Flatstick Pub - Pioneer Square  47.600143   \n",
       "1  5e9dbe635b450111c52e547a             McMenamins Six Arms  47.614108   \n",
       "2  5e9dbe635b450111c52e547b    Elysian Capitol Hill Brewery  47.613939   \n",
       "3  5e9dbe635b450111c52e547c               Elephant & Castle  47.610045   \n",
       "4  5e9dbe635b450111c52e547d                     Hopvine Pub  47.623362   \n",
       "\n",
       "    longitude                                           location  \n",
       "0 -122.331002  {'type': 'Point', 'coordinates': [-122.3310024...  \n",
       "1 -122.327767  {'type': 'Point', 'coordinates': [-122.3277668...  \n",
       "2 -122.315894  {'type': 'Point', 'coordinates': [-122.3158939...  \n",
       "3 -122.335570  {'type': 'Point', 'coordinates': [-122.3355698...  \n",
       "4 -122.312815  {'type': 'Point', 'coordinates': [-122.3128147...  "
      ]
     },
     "execution_count": 8,
     "metadata": {},
     "output_type": "execute_result"
    }
   ],
   "source": [
    "data=list(db.pubs_data.find({},{\"name\":1,\"location\":1,\"latitude\":1,\"longitude\":1}))\n",
    "pubs_location = pd.DataFrame(data)\n",
    "pubs_location.head()"
   ]
  },
  {
   "cell_type": "markdown",
   "metadata": {},
   "source": [
    "**Tras analizar el mapa con las localizaciones de los requirements, buscamos las oficinas cercanas al punto elegido:**"
   ]
  },
  {
   "cell_type": "markdown",
   "metadata": {},
   "source": [
    "*Investigamos sobre la zona (47.6082787,-122.3392946) ya que como hemos visualizado en el mapa, es la zona donde mas\n",
    "Starbucks, Restaurantes veganos y pubs se encuentran cerca de las oficinas a menos de 500 metros. Para los requisitos de Colegio y Aeropuerto, no es imprescindible una distancia inferior a 1km, por lo que vamos a tener en cuenta una distancia de 10km aprox.*"
   ]
  },
  {
   "cell_type": "code",
   "execution_count": 11,
   "metadata": {},
   "outputs": [],
   "source": [
    "def getOfficeNear(address, maxDist=500):\n",
    "    point = geocode(address)\n",
    "    return {\n",
    "       \"office\": {\n",
    "         \"$near\": {\n",
    "           \"$geometry\": point,\n",
    "           \"$maxDistance\": maxDist,\n",
    "         }\n",
    "       }\n",
    "    }"
   ]
  },
  {
   "cell_type": "code",
   "execution_count": 12,
   "metadata": {},
   "outputs": [
    {
     "name": "stdout",
     "output_type": "stream",
     "text": [
      "<Response [200]>\n"
     ]
    },
    {
     "data": {
      "text/plain": [
       "{'office': {'$near': {'$geometry': {'coordinates': [-122.33991, 47.60908]},\n",
       "   '$maxDistance': 500}}}"
      ]
     },
     "execution_count": 12,
     "metadata": {},
     "output_type": "execute_result"
    }
   ],
   "source": [
    "query=getOfficeNear(\"102 Pike St, Seattle, WA 98101, EE. UU.\") # Starbucks Location selected \n",
    "query"
   ]
  },
  {
   "cell_type": "code",
   "execution_count": 13,
   "metadata": {},
   "outputs": [
    {
     "name": "stdout",
     "output_type": "stream",
     "text": [
      "5\n"
     ]
    },
    {
     "name": "stderr",
     "output_type": "stream",
     "text": [
      "/usr/local/lib/python3.7/site-packages/ipykernel_launcher.py:2: DeprecationWarning: count is deprecated. Use Collection.count_documents instead.\n",
      "  \n"
     ]
    },
    {
     "data": {
      "text/plain": [
       "[{'name': 'Z2Live',\n",
       "  'category_code': 'games_video',\n",
       "  'total_money_raised': '$6.5M',\n",
       "  'office': {'type': 'Point', 'coordinates': [-122.3399782, 47.6103008]},\n",
       "  'latitude': 47.6103008,\n",
       "  'longitude': -122.3399782},\n",
       " {'name': 'Shock Treatment Management',\n",
       "  'category_code': 'web',\n",
       "  'total_money_raised': '$4M',\n",
       "  'office': {'type': 'Point', 'coordinates': [-122.339859, 47.610332]},\n",
       "  'latitude': 47.610332,\n",
       "  'longitude': -122.339859},\n",
       " {'name': 'SynapticMash',\n",
       "  'category_code': 'software',\n",
       "  'total_money_raised': '$5.89M',\n",
       "  'office': {'type': 'Point', 'coordinates': [-122.3379255, 47.6098932]},\n",
       "  'latitude': 47.6098932,\n",
       "  'longitude': -122.3379255},\n",
       " {'name': 'OnRequest Images',\n",
       "  'category_code': 'software',\n",
       "  'total_money_raised': '$27M',\n",
       "  'office': {'type': 'Point', 'coordinates': [-122.3403478, 47.6075374]},\n",
       "  'latitude': 47.6075374,\n",
       "  'longitude': -122.3403478},\n",
       " {'name': 'Vigilos',\n",
       "  'category_code': 'software',\n",
       "  'total_money_raised': '$7.4M',\n",
       "  'office': {'type': 'Point', 'coordinates': [-122.3430581, 47.6113314]},\n",
       "  'latitude': 47.6113314,\n",
       "  'longitude': -122.3430581}]"
      ]
     },
     "execution_count": 13,
     "metadata": {},
     "output_type": "execute_result"
    }
   ],
   "source": [
    "cur = db.offices_seattle.find(query, {\"_id\":0})\n",
    "print(cur.count())\n",
    "result = list(cur)\n",
    "result"
   ]
  },
  {
   "cell_type": "code",
   "execution_count": 15,
   "metadata": {},
   "outputs": [
    {
     "name": "stdout",
     "output_type": "stream",
     "text": [
      "<Response [200]>\n"
     ]
    },
    {
     "data": {
      "text/plain": [
       "{'office': {'$near': {'$geometry': {'coordinates': [-122.33671, 47.60985]},\n",
       "   '$maxDistance': 500}}}"
      ]
     },
     "execution_count": 15,
     "metadata": {},
     "output_type": "execute_result"
    }
   ],
   "source": [
    "query=getOfficeNear(\"1427 4th Ave Seattle, WA 98101, EE. UU.\") # Vegan restaurant Location selected \n",
    "query"
   ]
  },
  {
   "cell_type": "code",
   "execution_count": 16,
   "metadata": {},
   "outputs": [
    {
     "name": "stdout",
     "output_type": "stream",
     "text": [
      "6\n"
     ]
    },
    {
     "name": "stderr",
     "output_type": "stream",
     "text": [
      "/usr/local/lib/python3.7/site-packages/ipykernel_launcher.py:2: DeprecationWarning: count is deprecated. Use Collection.count_documents instead.\n",
      "  \n"
     ]
    },
    {
     "data": {
      "text/plain": [
       "[{'name': 'SynapticMash',\n",
       "  'category_code': 'software',\n",
       "  'total_money_raised': '$5.89M',\n",
       "  'office': {'type': 'Point', 'coordinates': [-122.3379255, 47.6098932]},\n",
       "  'latitude': 47.6098932,\n",
       "  'longitude': -122.3379255},\n",
       " {'name': 'Shock Treatment Management',\n",
       "  'category_code': 'web',\n",
       "  'total_money_raised': '$4M',\n",
       "  'office': {'type': 'Point', 'coordinates': [-122.339859, 47.610332]},\n",
       "  'latitude': 47.610332,\n",
       "  'longitude': -122.339859},\n",
       " {'name': 'Z2Live',\n",
       "  'category_code': 'games_video',\n",
       "  'total_money_raised': '$6.5M',\n",
       "  'office': {'type': 'Point', 'coordinates': [-122.3399782, 47.6103008]},\n",
       "  'latitude': 47.6103008,\n",
       "  'longitude': -122.3399782},\n",
       " {'name': 'OnRequest Images',\n",
       "  'category_code': 'software',\n",
       "  'total_money_raised': '$27M',\n",
       "  'office': {'type': 'Point', 'coordinates': [-122.3403478, 47.6075374]},\n",
       "  'latitude': 47.6075374,\n",
       "  'longitude': -122.3403478},\n",
       " {'name': 'IMedExchange',\n",
       "  'category_code': 'web',\n",
       "  'total_money_raised': '$2.62M',\n",
       "  'office': {'type': 'Point', 'coordinates': [-122.3371174, 47.6136485]},\n",
       "  'latitude': 47.6136485,\n",
       "  'longitude': -122.3371174},\n",
       " {'name': 'Medio',\n",
       "  'category_code': 'software',\n",
       "  'total_money_raised': '$30M',\n",
       "  'office': {'type': 'Point', 'coordinates': [-122.331308, 47.611827]},\n",
       "  'latitude': 47.611827,\n",
       "  'longitude': -122.331308}]"
      ]
     },
     "execution_count": 16,
     "metadata": {},
     "output_type": "execute_result"
    }
   ],
   "source": [
    "cur = db.offices_seattle.find(query, {\"_id\":0})\n",
    "print(cur.count())\n",
    "result = list(cur)\n",
    "result"
   ]
  },
  {
   "cell_type": "code",
   "execution_count": 21,
   "metadata": {},
   "outputs": [
    {
     "name": "stdout",
     "output_type": "stream",
     "text": [
      "<Response [200]>\n"
     ]
    },
    {
     "data": {
      "text/plain": [
       "{'office': {'$near': {'$geometry': {'coordinates': [-122.35765, 47.63189]},\n",
       "   '$maxDistance': 500}}}"
      ]
     },
     "execution_count": 21,
     "metadata": {},
     "output_type": "execute_result"
    }
   ],
   "source": [
    "query1=getOfficeNear(\"1416 1st Ave, Seattle, WA 98101, EE. UU.\") # Pubs Location selected \n",
    "query1"
   ]
  },
  {
   "cell_type": "code",
   "execution_count": 22,
   "metadata": {},
   "outputs": [
    {
     "name": "stdout",
     "output_type": "stream",
     "text": [
      "6\n"
     ]
    },
    {
     "name": "stderr",
     "output_type": "stream",
     "text": [
      "/usr/local/lib/python3.7/site-packages/ipykernel_launcher.py:2: DeprecationWarning: count is deprecated. Use Collection.count_documents instead.\n",
      "  \n"
     ]
    },
    {
     "data": {
      "text/plain": [
       "[{'name': 'SynapticMash',\n",
       "  'category_code': 'software',\n",
       "  'total_money_raised': '$5.89M',\n",
       "  'office': {'type': 'Point', 'coordinates': [-122.3379255, 47.6098932]},\n",
       "  'latitude': 47.6098932,\n",
       "  'longitude': -122.3379255},\n",
       " {'name': 'Shock Treatment Management',\n",
       "  'category_code': 'web',\n",
       "  'total_money_raised': '$4M',\n",
       "  'office': {'type': 'Point', 'coordinates': [-122.339859, 47.610332]},\n",
       "  'latitude': 47.610332,\n",
       "  'longitude': -122.339859},\n",
       " {'name': 'Z2Live',\n",
       "  'category_code': 'games_video',\n",
       "  'total_money_raised': '$6.5M',\n",
       "  'office': {'type': 'Point', 'coordinates': [-122.3399782, 47.6103008]},\n",
       "  'latitude': 47.6103008,\n",
       "  'longitude': -122.3399782},\n",
       " {'name': 'OnRequest Images',\n",
       "  'category_code': 'software',\n",
       "  'total_money_raised': '$27M',\n",
       "  'office': {'type': 'Point', 'coordinates': [-122.3403478, 47.6075374]},\n",
       "  'latitude': 47.6075374,\n",
       "  'longitude': -122.3403478},\n",
       " {'name': 'IMedExchange',\n",
       "  'category_code': 'web',\n",
       "  'total_money_raised': '$2.62M',\n",
       "  'office': {'type': 'Point', 'coordinates': [-122.3371174, 47.6136485]},\n",
       "  'latitude': 47.6136485,\n",
       "  'longitude': -122.3371174},\n",
       " {'name': 'Medio',\n",
       "  'category_code': 'software',\n",
       "  'total_money_raised': '$30M',\n",
       "  'office': {'type': 'Point', 'coordinates': [-122.331308, 47.611827]},\n",
       "  'latitude': 47.611827,\n",
       "  'longitude': -122.331308}]"
      ]
     },
     "execution_count": 22,
     "metadata": {},
     "output_type": "execute_result"
    }
   ],
   "source": [
    "cur = db.offices_seattle.find(query, {\"_id\":0})\n",
    "print(cur.count())\n",
    "result = list(cur)\n",
    "result"
   ]
  },
  {
   "cell_type": "markdown",
   "metadata": {},
   "source": [
    "**Tras localizar Starbucks, Pubs y restaurantes veganos cercanos,la compañia seleccionada que aparece en las 3 busquedas  es SynapticMash. Por lo que procedemos a verificar a que distancia se encuentra de los requirimientos:**"
   ]
  },
  {
   "cell_type": "code",
   "execution_count": 23,
   "metadata": {},
   "outputs": [
    {
     "name": "stdout",
     "output_type": "stream",
     "text": [
      "Distance for Starbucks 180 meters\n",
      "Distance for Vegan restaurant 97 meters\n",
      "Distance for Pubs 207 meters\n",
      "Distance for Airport 8429 kilometers\n",
      "Distance for School 589 kilometers\n"
     ]
    }
   ],
   "source": [
    "# Calculamos distance para la oficina elegida \"SynapticMash\" que cumple con los criterios requeridos:\n",
    "coord_office =(47.6098932,-122.3379255)\n",
    "coord_starbucks= (47.6090095,-122.33992417)\n",
    "coord_pubs= (47.6082787,-122.3392946)\n",
    "coord_airport= (47.5376339,-122.3040317)\n",
    "coord_school= (47.6054777,-122.3336027)\n",
    "coord_vegan=(47.6098817,-122.3366367)\n",
    "\n",
    "distance_starbucks=geodesic(coord_office,coord_starbucks)\n",
    "distance_vegan=geodesic(coord_office,coord_vegan)\n",
    "distance_pubs=geodesic(coord_office,coord_pubs)\n",
    "distance_schools=geodesic(coord_office,coord_school)\n",
    "distance_airport=geodesic(coord_office,coord_airport)\n",
    "\n",
    "print(\"Distance for Starbucks\", (round(distance_starbucks.meters)),\"meters\")\n",
    "print(\"Distance for Vegan restaurant\",(round(distance_vegan.meters)),\"meters\")\n",
    "print(\"Distance for Pubs\", (round(distance_pubs.meters)),\"meters\")\n",
    "print(\"Distance for Airport\", (round(distance_airport.meters)),\"kilometers\")\n",
    "print(\"Distance for School\", (round(distance_schools.meters)),\"kilometers\")"
   ]
  },
  {
   "cell_type": "markdown",
   "metadata": {},
   "source": [
    "**Al cumplir la localización de la compañia todos los requirimientos necesarios exigidos para la apertura de la nueva oficina, esta será la nueva localización elegida: (47.6098932,-122.3379255) en Seattle.**"
   ]
  },
  {
   "cell_type": "markdown",
   "metadata": {},
   "source": [
    "<img src=\"office.png\">"
   ]
  },
  {
   "cell_type": "markdown",
   "metadata": {},
   "source": [
    "El punto donde aparece la dirección: **localización de la oficina**.\n",
    "El resto de puntos corresponden: *Starbucks, Restaurante vegano, colegio, pub...*"
   ]
  },
  {
   "cell_type": "markdown",
   "metadata": {},
   "source": [
    "<img https://github.com/Macarena18/GeoSpartial-Data-Project/blob/master/OUTPUT/office.png>"
   ]
  },
  {
   "cell_type": "code",
   "execution_count": null,
   "metadata": {},
   "outputs": [],
   "source": []
  }
 ],
 "metadata": {
  "kernelspec": {
   "display_name": "Python 3",
   "language": "python",
   "name": "python3"
  },
  "language_info": {
   "codemirror_mode": {
    "name": "ipython",
    "version": 3
   },
   "file_extension": ".py",
   "mimetype": "text/x-python",
   "name": "python",
   "nbconvert_exporter": "python",
   "pygments_lexer": "ipython3",
   "version": "3.7.7"
  }
 },
 "nbformat": 4,
 "nbformat_minor": 4
}
