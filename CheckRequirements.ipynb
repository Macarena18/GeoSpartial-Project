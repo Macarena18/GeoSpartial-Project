{
 "cells": [
  {
   "cell_type": "markdown",
   "metadata": {},
   "source": [
    "# Check Requiments for office location election:"
   ]
  },
  {
   "cell_type": "code",
   "execution_count": 5,
   "metadata": {},
   "outputs": [],
   "source": [
    "import pandas as pd\n",
    "import requests\n",
    "import os\n",
    "from dotenv import load_dotenv\n",
    "from pymongo import MongoClient\n",
    "from pandas.io.json import json_normalize\n",
    "import numpy as np\n",
    "from API import *"
   ]
  },
  {
   "cell_type": "markdown",
   "metadata": {},
   "source": [
    "## 1º Requirement: Developers like to be near successful tech startups that have raised at least 1 Million dollars."
   ]
  },
  {
   "cell_type": "code",
   "execution_count": 6,
   "metadata": {},
   "outputs": [
    {
     "name": "stdout",
     "output_type": "stream",
     "text": [
      "mongodb://localhost/companies\n"
     ]
    }
   ],
   "source": [
    "dbName = \"companies\"\n",
    "mongodbURL = f\"mongodb://localhost/{dbName}\"\n",
    "print(mongodbURL)\n",
    "client = MongoClient(mongodbURL, connectTimeoutMS=2000,serverSelectionTimeoutMS=2000)\n",
    "db = client.get_database()"
   ]
  },
  {
   "cell_type": "markdown",
   "metadata": {},
   "source": [
    "**Importamos dataset con las  tech companies que tengan offices en Seattle:**"
   ]
  },
  {
   "cell_type": "code",
   "execution_count": 7,
   "metadata": {
    "scrolled": true
   },
   "outputs": [
    {
     "data": {
      "text/html": [
       "<div>\n",
       "<style scoped>\n",
       "    .dataframe tbody tr th:only-of-type {\n",
       "        vertical-align: middle;\n",
       "    }\n",
       "\n",
       "    .dataframe tbody tr th {\n",
       "        vertical-align: top;\n",
       "    }\n",
       "\n",
       "    .dataframe thead th {\n",
       "        text-align: right;\n",
       "    }\n",
       "</style>\n",
       "<table border=\"1\" class=\"dataframe\">\n",
       "  <thead>\n",
       "    <tr style=\"text-align: right;\">\n",
       "      <th></th>\n",
       "      <th>_id</th>\n",
       "      <th>name</th>\n",
       "      <th>category_code</th>\n",
       "      <th>total_money_raised</th>\n",
       "      <th>offices</th>\n",
       "    </tr>\n",
       "  </thead>\n",
       "  <tbody>\n",
       "    <tr>\n",
       "      <th>0</th>\n",
       "      <td>52cdef7c4bab8bd675297d8a</td>\n",
       "      <td>Wetpaint</td>\n",
       "      <td>web</td>\n",
       "      <td>$39.8M</td>\n",
       "      <td>{'description': '', 'address1': '710 - 2nd Ave...</td>\n",
       "    </tr>\n",
       "    <tr>\n",
       "      <th>0</th>\n",
       "      <td>52cdef7c4bab8bd675297d8a</td>\n",
       "      <td>Wetpaint</td>\n",
       "      <td>web</td>\n",
       "      <td>$39.8M</td>\n",
       "      <td>{'description': '', 'address1': '270 Lafayette...</td>\n",
       "    </tr>\n",
       "    <tr>\n",
       "      <th>1</th>\n",
       "      <td>52cdef7c4bab8bd675297dfc</td>\n",
       "      <td>TripHub</td>\n",
       "      <td>web</td>\n",
       "      <td>$0</td>\n",
       "      <td>{'description': None, 'address1': '2033 6th Av...</td>\n",
       "    </tr>\n",
       "    <tr>\n",
       "      <th>2</th>\n",
       "      <td>52cdef7c4bab8bd675297e0b</td>\n",
       "      <td>Newsvine</td>\n",
       "      <td>web</td>\n",
       "      <td>$1.25M</td>\n",
       "      <td>{'description': None, 'address1': '101 Elliott...</td>\n",
       "    </tr>\n",
       "    <tr>\n",
       "      <th>3</th>\n",
       "      <td>52cdef7c4bab8bd675297e11</td>\n",
       "      <td>iLike</td>\n",
       "      <td>games_video</td>\n",
       "      <td>$16.5M</td>\n",
       "      <td>{'description': None, 'address1': '1605 Boylst...</td>\n",
       "    </tr>\n",
       "  </tbody>\n",
       "</table>\n",
       "</div>"
      ],
      "text/plain": [
       "                        _id      name category_code total_money_raised  \\\n",
       "0  52cdef7c4bab8bd675297d8a  Wetpaint           web             $39.8M   \n",
       "0  52cdef7c4bab8bd675297d8a  Wetpaint           web             $39.8M   \n",
       "1  52cdef7c4bab8bd675297dfc   TripHub           web                 $0   \n",
       "2  52cdef7c4bab8bd675297e0b  Newsvine           web             $1.25M   \n",
       "3  52cdef7c4bab8bd675297e11     iLike   games_video             $16.5M   \n",
       "\n",
       "                                             offices  \n",
       "0  {'description': '', 'address1': '710 - 2nd Ave...  \n",
       "0  {'description': '', 'address1': '270 Lafayette...  \n",
       "1  {'description': None, 'address1': '2033 6th Av...  \n",
       "2  {'description': None, 'address1': '101 Elliott...  \n",
       "3  {'description': None, 'address1': '1605 Boylst...  "
      ]
     },
     "execution_count": 7,
     "metadata": {},
     "output_type": "execute_result"
    }
   ],
   "source": [
    "query={\"$and\":[{\"offices.city\":{\"$eq\":\"Seattle\"}},{\"category_code\":{\"$in\":[\"software\",\"games_video\",\"web\",\"network_hosting\",\"cleantech\",\"biotech\",\"nanotech\"]}}]}\n",
    "data=list(db.companies.find(query,{\"name\":1,\"category_code\":1,\"total_money_raised\":1,\"offices\":1}))\n",
    "data_companies_seattle = pd.DataFrame(data)\n",
    "data_companies_seattle=data_companies_seattle.explode(\"offices\")\n",
    "data_companies_seattle.head()"
   ]
  },
  {
   "cell_type": "markdown",
   "metadata": {},
   "source": [
    "**Seleccionamos solo las companies que tengan un \"total money raised\" mayor a 1 millón:**"
   ]
  },
  {
   "cell_type": "code",
   "execution_count": 8,
   "metadata": {},
   "outputs": [
    {
     "data": {
      "text/html": [
       "<div>\n",
       "<style scoped>\n",
       "    .dataframe tbody tr th:only-of-type {\n",
       "        vertical-align: middle;\n",
       "    }\n",
       "\n",
       "    .dataframe tbody tr th {\n",
       "        vertical-align: top;\n",
       "    }\n",
       "\n",
       "    .dataframe thead th {\n",
       "        text-align: right;\n",
       "    }\n",
       "</style>\n",
       "<table border=\"1\" class=\"dataframe\">\n",
       "  <thead>\n",
       "    <tr style=\"text-align: right;\">\n",
       "      <th></th>\n",
       "      <th>_id</th>\n",
       "      <th>name</th>\n",
       "      <th>category_code</th>\n",
       "      <th>total_money_raised</th>\n",
       "      <th>offices</th>\n",
       "      <th>million_money_raised</th>\n",
       "    </tr>\n",
       "  </thead>\n",
       "  <tbody>\n",
       "    <tr>\n",
       "      <th>0</th>\n",
       "      <td>52cdef7c4bab8bd675297d8a</td>\n",
       "      <td>Wetpaint</td>\n",
       "      <td>web</td>\n",
       "      <td>$39.8M</td>\n",
       "      <td>{'description': '', 'address1': '710 - 2nd Ave...</td>\n",
       "      <td>2</td>\n",
       "    </tr>\n",
       "    <tr>\n",
       "      <th>0</th>\n",
       "      <td>52cdef7c4bab8bd675297d8a</td>\n",
       "      <td>Wetpaint</td>\n",
       "      <td>web</td>\n",
       "      <td>$39.8M</td>\n",
       "      <td>{'description': '', 'address1': '270 Lafayette...</td>\n",
       "      <td>2</td>\n",
       "    </tr>\n",
       "    <tr>\n",
       "      <th>2</th>\n",
       "      <td>52cdef7c4bab8bd675297e0b</td>\n",
       "      <td>Newsvine</td>\n",
       "      <td>web</td>\n",
       "      <td>$1.25M</td>\n",
       "      <td>{'description': None, 'address1': '101 Elliott...</td>\n",
       "      <td>2</td>\n",
       "    </tr>\n",
       "    <tr>\n",
       "      <th>3</th>\n",
       "      <td>52cdef7c4bab8bd675297e11</td>\n",
       "      <td>iLike</td>\n",
       "      <td>games_video</td>\n",
       "      <td>$16.5M</td>\n",
       "      <td>{'description': None, 'address1': '1605 Boylst...</td>\n",
       "      <td>2</td>\n",
       "    </tr>\n",
       "    <tr>\n",
       "      <th>4</th>\n",
       "      <td>52cdef7c4bab8bd675297e6d</td>\n",
       "      <td>PayScale</td>\n",
       "      <td>software</td>\n",
       "      <td>$31.1M</td>\n",
       "      <td>{'description': '', 'address1': '542 First Ave...</td>\n",
       "      <td>2</td>\n",
       "    </tr>\n",
       "  </tbody>\n",
       "</table>\n",
       "</div>"
      ],
      "text/plain": [
       "                        _id      name category_code total_money_raised  \\\n",
       "0  52cdef7c4bab8bd675297d8a  Wetpaint           web             $39.8M   \n",
       "0  52cdef7c4bab8bd675297d8a  Wetpaint           web             $39.8M   \n",
       "2  52cdef7c4bab8bd675297e0b  Newsvine           web             $1.25M   \n",
       "3  52cdef7c4bab8bd675297e11     iLike   games_video             $16.5M   \n",
       "4  52cdef7c4bab8bd675297e6d  PayScale      software             $31.1M   \n",
       "\n",
       "                                             offices  million_money_raised  \n",
       "0  {'description': '', 'address1': '710 - 2nd Ave...                     2  \n",
       "0  {'description': '', 'address1': '270 Lafayette...                     2  \n",
       "2  {'description': None, 'address1': '101 Elliott...                     2  \n",
       "3  {'description': None, 'address1': '1605 Boylst...                     2  \n",
       "4  {'description': '', 'address1': '542 First Ave...                     2  "
      ]
     },
     "execution_count": 8,
     "metadata": {},
     "output_type": "execute_result"
    }
   ],
   "source": [
    "# limpiar todo lo que sea menor a 1 million raised\n",
    "money_raised_lessmillion=[\"$0\",\"$500k\"]\n",
    "data_companies_seattle[\"million_money_raised\"]=np.where(data_companies_seattle[\"total_money_raised\"].isin(money_raised_lessmillion),1,2)\n",
    "data_companies_seattle.drop(data_companies_seattle[data_companies_seattle[\"million_money_raised\"]<2].index,inplace=True)\n",
    "data_companies_seattle.head()"
   ]
  },
  {
   "cell_type": "markdown",
   "metadata": {},
   "source": [
    "**Creación columna *location* con información de latitud y longitud de la columna *offices* :**"
   ]
  },
  {
   "cell_type": "code",
   "execution_count": 9,
   "metadata": {},
   "outputs": [],
   "source": [
    "def officeToGeoPoint(row):\n",
    "    office = row.offices\n",
    "    if type(office) == dict:\n",
    "        if 'latitude' in office and 'longitude' in office:\n",
    "            if(type(office[\"latitude\"])) == float and type(office[\"longitude\"]) == float:\n",
    "                return ({\n",
    "                    \"type\":\"Point\",\n",
    "                    \"coordinates\":[office[\"longitude\"],office[\"latitude\"]]\n",
    "                },\"success\")\n",
    "            else:\n",
    "                return(None,\"Invalid lat lat and long\")\n",
    "        else:\n",
    "            return (None,\"No lat and long keys in office dict\")\n",
    "    return (None,\"No office\")"
   ]
  },
  {
   "cell_type": "code",
   "execution_count": 10,
   "metadata": {},
   "outputs": [
    {
     "data": {
      "text/html": [
       "<div>\n",
       "<style scoped>\n",
       "    .dataframe tbody tr th:only-of-type {\n",
       "        vertical-align: middle;\n",
       "    }\n",
       "\n",
       "    .dataframe tbody tr th {\n",
       "        vertical-align: top;\n",
       "    }\n",
       "\n",
       "    .dataframe thead th {\n",
       "        text-align: right;\n",
       "    }\n",
       "</style>\n",
       "<table border=\"1\" class=\"dataframe\">\n",
       "  <thead>\n",
       "    <tr style=\"text-align: right;\">\n",
       "      <th></th>\n",
       "      <th>office</th>\n",
       "      <th>clean_state</th>\n",
       "    </tr>\n",
       "  </thead>\n",
       "  <tbody>\n",
       "    <tr>\n",
       "      <th>0</th>\n",
       "      <td>{'type': 'Point', 'coordinates': [-122.333253,...</td>\n",
       "      <td>success</td>\n",
       "    </tr>\n",
       "    <tr>\n",
       "      <th>0</th>\n",
       "      <td>{'type': 'Point', 'coordinates': [-73.9964312,...</td>\n",
       "      <td>success</td>\n",
       "    </tr>\n",
       "    <tr>\n",
       "      <th>2</th>\n",
       "      <td>{'type': 'Point', 'coordinates': [-122.358484,...</td>\n",
       "      <td>success</td>\n",
       "    </tr>\n",
       "    <tr>\n",
       "      <th>3</th>\n",
       "      <td>{'type': 'Point', 'coordinates': [-122.323408,...</td>\n",
       "      <td>success</td>\n",
       "    </tr>\n",
       "    <tr>\n",
       "      <th>4</th>\n",
       "      <td>{'type': 'Point', 'coordinates': [-122.3276962...</td>\n",
       "      <td>success</td>\n",
       "    </tr>\n",
       "  </tbody>\n",
       "</table>\n",
       "</div>"
      ],
      "text/plain": [
       "                                              office clean_state\n",
       "0  {'type': 'Point', 'coordinates': [-122.333253,...     success\n",
       "0  {'type': 'Point', 'coordinates': [-73.9964312,...     success\n",
       "2  {'type': 'Point', 'coordinates': [-122.358484,...     success\n",
       "3  {'type': 'Point', 'coordinates': [-122.323408,...     success\n",
       "4  {'type': 'Point', 'coordinates': [-122.3276962...     success"
      ]
     },
     "execution_count": 10,
     "metadata": {},
     "output_type": "execute_result"
    }
   ],
   "source": [
    "offices = data_companies_seattle.apply(officeToGeoPoint,axis=1, result_type=\"expand\")\n",
    "offices.columns=[\"office\",\"clean_state\"]\n",
    "offices.head()"
   ]
  },
  {
   "cell_type": "markdown",
   "metadata": {},
   "source": [
    "*Juntamos el dataframe creado con las nuevas columnas al dataframe original con las oficinas en Seattle; eliminamos filas nulas y columnas sobrantes*"
   ]
  },
  {
   "cell_type": "code",
   "execution_count": 11,
   "metadata": {},
   "outputs": [
    {
     "data": {
      "text/plain": [
       "(56, 5)"
      ]
     },
     "execution_count": 11,
     "metadata": {},
     "output_type": "execute_result"
    }
   ],
   "source": [
    "offices_seattle_data=pd.concat([data_companies_seattle,offices],axis=1)\n",
    "offices_seattle_data=offices_seattle_data.dropna(subset=[\"office\"])\n",
    "offices_seattle_data=offices_seattle_data.drop(columns=[\"million_money_raised\",\"offices\",\"clean_state\"])\n",
    "offices_seattle_data.shape"
   ]
  },
  {
   "cell_type": "markdown",
   "metadata": {},
   "source": [
    "**Creamos columnas \"Latitude\" y \"Longitude\" para separar contenido columna \"office\":**"
   ]
  },
  {
   "cell_type": "code",
   "execution_count": 12,
   "metadata": {},
   "outputs": [
    {
     "data": {
      "text/html": [
       "<div>\n",
       "<style scoped>\n",
       "    .dataframe tbody tr th:only-of-type {\n",
       "        vertical-align: middle;\n",
       "    }\n",
       "\n",
       "    .dataframe tbody tr th {\n",
       "        vertical-align: top;\n",
       "    }\n",
       "\n",
       "    .dataframe thead th {\n",
       "        text-align: right;\n",
       "    }\n",
       "</style>\n",
       "<table border=\"1\" class=\"dataframe\">\n",
       "  <thead>\n",
       "    <tr style=\"text-align: right;\">\n",
       "      <th></th>\n",
       "      <th>_id</th>\n",
       "      <th>name</th>\n",
       "      <th>category_code</th>\n",
       "      <th>total_money_raised</th>\n",
       "      <th>office</th>\n",
       "      <th>latitude</th>\n",
       "      <th>longitude</th>\n",
       "    </tr>\n",
       "  </thead>\n",
       "  <tbody>\n",
       "    <tr>\n",
       "      <th>0</th>\n",
       "      <td>52cdef7c4bab8bd675297d8a</td>\n",
       "      <td>Wetpaint</td>\n",
       "      <td>web</td>\n",
       "      <td>$39.8M</td>\n",
       "      <td>{'type': 'Point', 'coordinates': [-122.333253,...</td>\n",
       "      <td>47.603122</td>\n",
       "      <td>-122.333253</td>\n",
       "    </tr>\n",
       "    <tr>\n",
       "      <th>0</th>\n",
       "      <td>52cdef7c4bab8bd675297d8a</td>\n",
       "      <td>Wetpaint</td>\n",
       "      <td>web</td>\n",
       "      <td>$39.8M</td>\n",
       "      <td>{'type': 'Point', 'coordinates': [-73.9964312,...</td>\n",
       "      <td>40.723731</td>\n",
       "      <td>-73.996431</td>\n",
       "    </tr>\n",
       "    <tr>\n",
       "      <th>2</th>\n",
       "      <td>52cdef7c4bab8bd675297e0b</td>\n",
       "      <td>Newsvine</td>\n",
       "      <td>web</td>\n",
       "      <td>$1.25M</td>\n",
       "      <td>{'type': 'Point', 'coordinates': [-122.358484,...</td>\n",
       "      <td>47.618599</td>\n",
       "      <td>-122.358484</td>\n",
       "    </tr>\n",
       "    <tr>\n",
       "      <th>3</th>\n",
       "      <td>52cdef7c4bab8bd675297e11</td>\n",
       "      <td>iLike</td>\n",
       "      <td>games_video</td>\n",
       "      <td>$16.5M</td>\n",
       "      <td>{'type': 'Point', 'coordinates': [-122.323408,...</td>\n",
       "      <td>47.615313</td>\n",
       "      <td>-122.323408</td>\n",
       "    </tr>\n",
       "    <tr>\n",
       "      <th>4</th>\n",
       "      <td>52cdef7c4bab8bd675297e6d</td>\n",
       "      <td>PayScale</td>\n",
       "      <td>software</td>\n",
       "      <td>$31.1M</td>\n",
       "      <td>{'type': 'Point', 'coordinates': [-122.3276962...</td>\n",
       "      <td>47.599934</td>\n",
       "      <td>-122.327696</td>\n",
       "    </tr>\n",
       "  </tbody>\n",
       "</table>\n",
       "</div>"
      ],
      "text/plain": [
       "                        _id      name category_code total_money_raised  \\\n",
       "0  52cdef7c4bab8bd675297d8a  Wetpaint           web             $39.8M   \n",
       "0  52cdef7c4bab8bd675297d8a  Wetpaint           web             $39.8M   \n",
       "2  52cdef7c4bab8bd675297e0b  Newsvine           web             $1.25M   \n",
       "3  52cdef7c4bab8bd675297e11     iLike   games_video             $16.5M   \n",
       "4  52cdef7c4bab8bd675297e6d  PayScale      software             $31.1M   \n",
       "\n",
       "                                              office   latitude   longitude  \n",
       "0  {'type': 'Point', 'coordinates': [-122.333253,...  47.603122 -122.333253  \n",
       "0  {'type': 'Point', 'coordinates': [-73.9964312,...  40.723731  -73.996431  \n",
       "2  {'type': 'Point', 'coordinates': [-122.358484,...  47.618599 -122.358484  \n",
       "3  {'type': 'Point', 'coordinates': [-122.323408,...  47.615313 -122.323408  \n",
       "4  {'type': 'Point', 'coordinates': [-122.3276962...  47.599934 -122.327696  "
      ]
     },
     "execution_count": 12,
     "metadata": {},
     "output_type": "execute_result"
    }
   ],
   "source": [
    "def easyLatLng(row):\n",
    "    of= row['office']\n",
    "    return {\n",
    "        \"latitude\":of[\"coordinates\"][1],\n",
    "        \"longitude\":of[\"coordinates\"][0]\n",
    "    }\n",
    "offices_seattle_data = pd.concat([offices_seattle_data, offices_seattle_data.apply(easyLatLng, axis=1, result_type=\"expand\")],axis=1)\n",
    "offices_seattle_data.head()"
   ]
  },
  {
   "cell_type": "code",
   "execution_count": 13,
   "metadata": {},
   "outputs": [],
   "source": [
    "offices_seattle_data=offices_seattle_data.drop(\"_id\", axis=1)\n",
    "offices_seattle_data.to_json(\"OUTPUT/offices_seattle.json\",orient=\"records\")"
   ]
  },
  {
   "cell_type": "markdown",
   "metadata": {},
   "source": [
    "**Creación nuevo dataset con las compañias que cumplen el 1º requirement:**"
   ]
  },
  {
   "cell_type": "code",
   "execution_count": 14,
   "metadata": {},
   "outputs": [
    {
     "name": "stderr",
     "output_type": "stream",
     "text": [
      "/usr/local/lib/python3.7/site-packages/ipykernel_launcher.py:2: SettingWithCopyWarning: \n",
      "A value is trying to be set on a copy of a slice from a DataFrame.\n",
      "Try using .loc[row_indexer,col_indexer] = value instead\n",
      "\n",
      "See the caveats in the documentation: https://pandas.pydata.org/pandas-docs/stable/user_guide/indexing.html#returning-a-view-versus-a-copy\n",
      "  \n"
     ]
    },
    {
     "data": {
      "text/html": [
       "<div>\n",
       "<style scoped>\n",
       "    .dataframe tbody tr th:only-of-type {\n",
       "        vertical-align: middle;\n",
       "    }\n",
       "\n",
       "    .dataframe tbody tr th {\n",
       "        vertical-align: top;\n",
       "    }\n",
       "\n",
       "    .dataframe thead th {\n",
       "        text-align: right;\n",
       "    }\n",
       "</style>\n",
       "<table border=\"1\" class=\"dataframe\">\n",
       "  <thead>\n",
       "    <tr style=\"text-align: right;\">\n",
       "      <th></th>\n",
       "      <th>Requirement</th>\n",
       "      <th>name</th>\n",
       "      <th>latitude</th>\n",
       "      <th>longitude</th>\n",
       "      <th>location</th>\n",
       "    </tr>\n",
       "  </thead>\n",
       "  <tbody>\n",
       "    <tr>\n",
       "      <th>0</th>\n",
       "      <td>TechCompanies raised more 1 million</td>\n",
       "      <td>Wetpaint</td>\n",
       "      <td>47.603122</td>\n",
       "      <td>-122.333253</td>\n",
       "      <td>{'type': 'Point', 'coordinates': [-122.333253,...</td>\n",
       "    </tr>\n",
       "    <tr>\n",
       "      <th>0</th>\n",
       "      <td>TechCompanies raised more 1 million</td>\n",
       "      <td>Wetpaint</td>\n",
       "      <td>40.723731</td>\n",
       "      <td>-73.996431</td>\n",
       "      <td>{'type': 'Point', 'coordinates': [-73.9964312,...</td>\n",
       "    </tr>\n",
       "    <tr>\n",
       "      <th>2</th>\n",
       "      <td>TechCompanies raised more 1 million</td>\n",
       "      <td>Newsvine</td>\n",
       "      <td>47.618599</td>\n",
       "      <td>-122.358484</td>\n",
       "      <td>{'type': 'Point', 'coordinates': [-122.358484,...</td>\n",
       "    </tr>\n",
       "    <tr>\n",
       "      <th>3</th>\n",
       "      <td>TechCompanies raised more 1 million</td>\n",
       "      <td>iLike</td>\n",
       "      <td>47.615313</td>\n",
       "      <td>-122.323408</td>\n",
       "      <td>{'type': 'Point', 'coordinates': [-122.323408,...</td>\n",
       "    </tr>\n",
       "    <tr>\n",
       "      <th>4</th>\n",
       "      <td>TechCompanies raised more 1 million</td>\n",
       "      <td>PayScale</td>\n",
       "      <td>47.599934</td>\n",
       "      <td>-122.327696</td>\n",
       "      <td>{'type': 'Point', 'coordinates': [-122.3276962...</td>\n",
       "    </tr>\n",
       "  </tbody>\n",
       "</table>\n",
       "</div>"
      ],
      "text/plain": [
       "                           Requirement      name   latitude   longitude  \\\n",
       "0  TechCompanies raised more 1 million  Wetpaint  47.603122 -122.333253   \n",
       "0  TechCompanies raised more 1 million  Wetpaint  40.723731  -73.996431   \n",
       "2  TechCompanies raised more 1 million  Newsvine  47.618599 -122.358484   \n",
       "3  TechCompanies raised more 1 million     iLike  47.615313 -122.323408   \n",
       "4  TechCompanies raised more 1 million  PayScale  47.599934 -122.327696   \n",
       "\n",
       "                                            location  \n",
       "0  {'type': 'Point', 'coordinates': [-122.333253,...  \n",
       "0  {'type': 'Point', 'coordinates': [-73.9964312,...  \n",
       "2  {'type': 'Point', 'coordinates': [-122.358484,...  \n",
       "3  {'type': 'Point', 'coordinates': [-122.323408,...  \n",
       "4  {'type': 'Point', 'coordinates': [-122.3276962...  "
      ]
     },
     "execution_count": 14,
     "metadata": {},
     "output_type": "execute_result"
    }
   ],
   "source": [
    "millioncompanies_data=offices_seattle_data[[\"name\",\"latitude\",\"longitude\",\"office\"]]\n",
    "millioncompanies_data[\"Requirement\"]=np.where(millioncompanies_data[\"name\"].isnull(),\"\",\"TechCompanies raised more 1 million\")\n",
    "millioncompanies_data=millioncompanies_data.rename(columns={\"office\":\"location\"})\n",
    "column_order=[\"Requirement\",\"name\",\"latitude\",\"longitude\",\"location\"]\n",
    "millioncompanies_data=millioncompanies_data[column_order]\n",
    "millioncompanies_data.head()"
   ]
  },
  {
   "cell_type": "markdown",
   "metadata": {},
   "source": [
    "##  GEOCODE , FOURSQUARE  y GOOGLEPLACES API:"
   ]
  },
  {
   "cell_type": "markdown",
   "metadata": {},
   "source": [
    "**Vamos a utilizar estas apis para buscar el contenido del resto de requirements:**"
   ]
  },
  {
   "cell_type": "markdown",
   "metadata": {},
   "source": [
    "**Utilizo Geocode para encontrar coordenadas de un punto centrico en Seattle (Seattle Downtown):**"
   ]
  },
  {
   "cell_type": "code",
   "execution_count": 25,
   "metadata": {},
   "outputs": [
    {
     "name": "stdout",
     "output_type": "stream",
     "text": [
      "WE HAVE APIKEY\n"
     ]
    },
    {
     "data": {
      "text/plain": [
       "{'coordinates': [-122.33279, 47.62405]}"
      ]
     },
     "execution_count": 25,
     "metadata": {},
     "output_type": "execute_result"
    }
   ],
   "source": [
    "seattle = \"Seattle Downtonwn\"\n",
    "geocode(seattle)"
   ]
  },
  {
   "cell_type": "markdown",
   "metadata": {},
   "source": [
    "## 2º Requirement: The CEO is Vegan"
   ]
  },
  {
   "cell_type": "markdown",
   "metadata": {},
   "source": [
    "**Buscamos restaurantes veganos de la zona:**"
   ]
  },
  {
   "cell_type": "code",
   "execution_count": 26,
   "metadata": {},
   "outputs": [
    {
     "data": {
      "text/html": [
       "<div>\n",
       "<style scoped>\n",
       "    .dataframe tbody tr th:only-of-type {\n",
       "        vertical-align: middle;\n",
       "    }\n",
       "\n",
       "    .dataframe tbody tr th {\n",
       "        vertical-align: top;\n",
       "    }\n",
       "\n",
       "    .dataframe thead th {\n",
       "        text-align: right;\n",
       "    }\n",
       "</style>\n",
       "<table border=\"1\" class=\"dataframe\">\n",
       "  <thead>\n",
       "    <tr style=\"text-align: right;\">\n",
       "      <th></th>\n",
       "      <th>Requirement</th>\n",
       "      <th>name</th>\n",
       "      <th>latitude</th>\n",
       "      <th>longitude</th>\n",
       "      <th>location</th>\n",
       "    </tr>\n",
       "  </thead>\n",
       "  <tbody>\n",
       "    <tr>\n",
       "      <th>0</th>\n",
       "      <td>Vegan Restaurant</td>\n",
       "      <td>Veggie Grill</td>\n",
       "      <td>47.609882</td>\n",
       "      <td>-122.336637</td>\n",
       "      <td>{'type': 'Point', 'coordinates': [-122.3366367...</td>\n",
       "    </tr>\n",
       "    <tr>\n",
       "      <th>1</th>\n",
       "      <td>Vegan Restaurant</td>\n",
       "      <td>Plum Bistro</td>\n",
       "      <td>47.613801</td>\n",
       "      <td>-122.316933</td>\n",
       "      <td>{'type': 'Point', 'coordinates': [-122.3169331...</td>\n",
       "    </tr>\n",
       "    <tr>\n",
       "      <th>2</th>\n",
       "      <td>Vegan Restaurant</td>\n",
       "      <td>Veggie Grill</td>\n",
       "      <td>47.623078</td>\n",
       "      <td>-122.336920</td>\n",
       "      <td>{'type': 'Point', 'coordinates': [-122.3369198...</td>\n",
       "    </tr>\n",
       "    <tr>\n",
       "      <th>3</th>\n",
       "      <td>Vegan Restaurant</td>\n",
       "      <td>Kati Vegan Thai</td>\n",
       "      <td>47.620864</td>\n",
       "      <td>-122.333340</td>\n",
       "      <td>{'type': 'Point', 'coordinates': [-122.3333401...</td>\n",
       "    </tr>\n",
       "    <tr>\n",
       "      <th>4</th>\n",
       "      <td>Vegan Restaurant</td>\n",
       "      <td>Pantry by Plum</td>\n",
       "      <td>47.621221</td>\n",
       "      <td>-122.350860</td>\n",
       "      <td>{'type': 'Point', 'coordinates': [-122.3508600...</td>\n",
       "    </tr>\n",
       "  </tbody>\n",
       "</table>\n",
       "</div>"
      ],
      "text/plain": [
       "        Requirement             name   latitude   longitude  \\\n",
       "0  Vegan Restaurant     Veggie Grill  47.609882 -122.336637   \n",
       "1  Vegan Restaurant      Plum Bistro  47.613801 -122.316933   \n",
       "2  Vegan Restaurant     Veggie Grill  47.623078 -122.336920   \n",
       "3  Vegan Restaurant  Kati Vegan Thai  47.620864 -122.333340   \n",
       "4  Vegan Restaurant   Pantry by Plum  47.621221 -122.350860   \n",
       "\n",
       "                                            location  \n",
       "0  {'type': 'Point', 'coordinates': [-122.3366367...  \n",
       "1  {'type': 'Point', 'coordinates': [-122.3169331...  \n",
       "2  {'type': 'Point', 'coordinates': [-122.3369198...  \n",
       "3  {'type': 'Point', 'coordinates': [-122.3333401...  \n",
       "4  {'type': 'Point', 'coordinates': [-122.3508600...  "
      ]
     },
     "execution_count": 26,
     "metadata": {},
     "output_type": "execute_result"
    }
   ],
   "source": [
    "load_dotenv()\n",
    "vegan_result=getFromFoursquare('47.61186,-122.33581',5000,\"Vegan Restaurant\",\"4bf58dd8d48988d1d3941735\")\n",
    "Vegan_restaurants=[]\n",
    "for resp in vegan_result[\"response\"][\"groups\"]:\n",
    "    for item in resp[\"items\"]:\n",
    "        vegan_name=item['venue'][\"name\"]\n",
    "        vegan_latitud=item['venue'][\"location\"][\"lat\"]\n",
    "        vegan_longitud=item['venue'][\"location\"][\"lng\"]\n",
    "        Vegan_restaurants.append({\"Requirement\":\"Vegan Restaurant\",\"name\":vegan_name,\"latitude\":vegan_latitud,\"longitude\":vegan_longitud,\"location\":{\"type\":\"Point\",\"coordinates\":[vegan_longitud,vegan_latitud]}})\n",
    "          \n",
    "Vegan_data=pd.DataFrame(Vegan_restaurants)\n",
    "Vegan_data.head()"
   ]
  },
  {
   "cell_type": "code",
   "execution_count": 27,
   "metadata": {},
   "outputs": [],
   "source": [
    "Vegan_data.to_json(\"OUTPUT/vegan_restaurants.json\",orient=\"records\")"
   ]
  },
  {
   "cell_type": "markdown",
   "metadata": {},
   "source": [
    "## 3º Requirement: Account managers need to travel a lot"
   ]
  },
  {
   "cell_type": "markdown",
   "metadata": {},
   "source": [
    "**Para este requirement, vamos a buscar los metros, estaciones de tren (Foursquare) y aeropuertos (GoogleApi):**"
   ]
  },
  {
   "cell_type": "code",
   "execution_count": 28,
   "metadata": {},
   "outputs": [
    {
     "data": {
      "text/html": [
       "<div>\n",
       "<style scoped>\n",
       "    .dataframe tbody tr th:only-of-type {\n",
       "        vertical-align: middle;\n",
       "    }\n",
       "\n",
       "    .dataframe tbody tr th {\n",
       "        vertical-align: top;\n",
       "    }\n",
       "\n",
       "    .dataframe thead th {\n",
       "        text-align: right;\n",
       "    }\n",
       "</style>\n",
       "<table border=\"1\" class=\"dataframe\">\n",
       "  <thead>\n",
       "    <tr style=\"text-align: right;\">\n",
       "      <th></th>\n",
       "      <th>Requirement</th>\n",
       "      <th>name</th>\n",
       "      <th>latitude</th>\n",
       "      <th>longitude</th>\n",
       "      <th>location</th>\n",
       "    </tr>\n",
       "  </thead>\n",
       "  <tbody>\n",
       "    <tr>\n",
       "      <th>0</th>\n",
       "      <td>Transport - Metro</td>\n",
       "      <td>Metro Stop #1080</td>\n",
       "      <td>47.613965</td>\n",
       "      <td>-122.332277</td>\n",
       "      <td>{'type': 'Point', 'coordinates': [-122.332277,...</td>\n",
       "    </tr>\n",
       "    <tr>\n",
       "      <th>1</th>\n",
       "      <td>Transport - Metro</td>\n",
       "      <td>International District/Chinatown LINK Station</td>\n",
       "      <td>47.598593</td>\n",
       "      <td>-122.328000</td>\n",
       "      <td>{'type': 'Point', 'coordinates': [-122.3280000...</td>\n",
       "    </tr>\n",
       "    <tr>\n",
       "      <th>2</th>\n",
       "      <td>Transport - Metro</td>\n",
       "      <td>Pioneer Square LINK Station</td>\n",
       "      <td>47.602276</td>\n",
       "      <td>-122.330999</td>\n",
       "      <td>{'type': 'Point', 'coordinates': [-122.3309994...</td>\n",
       "    </tr>\n",
       "    <tr>\n",
       "      <th>3</th>\n",
       "      <td>Transport - Metro</td>\n",
       "      <td>King County Metro Transit HQ</td>\n",
       "      <td>47.599115</td>\n",
       "      <td>-122.331284</td>\n",
       "      <td>{'type': 'Point', 'coordinates': [-122.3312838...</td>\n",
       "    </tr>\n",
       "    <tr>\n",
       "      <th>4</th>\n",
       "      <td>Transport - Metro</td>\n",
       "      <td>King County Metro Route 131</td>\n",
       "      <td>47.606642</td>\n",
       "      <td>-122.335198</td>\n",
       "      <td>{'type': 'Point', 'coordinates': [-122.3351977...</td>\n",
       "    </tr>\n",
       "  </tbody>\n",
       "</table>\n",
       "</div>"
      ],
      "text/plain": [
       "         Requirement                                           name  \\\n",
       "0  Transport - Metro                               Metro Stop #1080   \n",
       "1  Transport - Metro  International District/Chinatown LINK Station   \n",
       "2  Transport - Metro                    Pioneer Square LINK Station   \n",
       "3  Transport - Metro                   King County Metro Transit HQ   \n",
       "4  Transport - Metro                    King County Metro Route 131   \n",
       "\n",
       "    latitude   longitude                                           location  \n",
       "0  47.613965 -122.332277  {'type': 'Point', 'coordinates': [-122.332277,...  \n",
       "1  47.598593 -122.328000  {'type': 'Point', 'coordinates': [-122.3280000...  \n",
       "2  47.602276 -122.330999  {'type': 'Point', 'coordinates': [-122.3309994...  \n",
       "3  47.599115 -122.331284  {'type': 'Point', 'coordinates': [-122.3312838...  \n",
       "4  47.606642 -122.335198  {'type': 'Point', 'coordinates': [-122.3351977...  "
      ]
     },
     "execution_count": 28,
     "metadata": {},
     "output_type": "execute_result"
    }
   ],
   "source": [
    "metro_result=getFromFoursquare('47.60312,-122.32384',5000,\"Metro\",\"4bf58dd8d48988d1fd931735\")\n",
    "metro_list=[]\n",
    "for resp in metro_result[\"response\"][\"groups\"]:\n",
    "    for item in resp[\"items\"]:\n",
    "        metro_name=item['venue'][\"name\"]\n",
    "        metro_latitud=item['venue'][\"location\"][\"lat\"]\n",
    "        metro_longitud=item['venue'][\"location\"][\"lng\"]\n",
    "        metro_list.append({\"Requirement\":\"Transport - Metro\",\"name\":metro_name,\"latitude\":metro_latitud,\"longitude\":metro_longitud,\"location\":{\"type\":\"Point\",\"coordinates\":[metro_longitud,metro_latitud]}})\n",
    "metro_data=pd.DataFrame(metro_list)  \n",
    "metro_data.head()"
   ]
  },
  {
   "cell_type": "code",
   "execution_count": 29,
   "metadata": {},
   "outputs": [
    {
     "data": {
      "text/html": [
       "<div>\n",
       "<style scoped>\n",
       "    .dataframe tbody tr th:only-of-type {\n",
       "        vertical-align: middle;\n",
       "    }\n",
       "\n",
       "    .dataframe tbody tr th {\n",
       "        vertical-align: top;\n",
       "    }\n",
       "\n",
       "    .dataframe thead th {\n",
       "        text-align: right;\n",
       "    }\n",
       "</style>\n",
       "<table border=\"1\" class=\"dataframe\">\n",
       "  <thead>\n",
       "    <tr style=\"text-align: right;\">\n",
       "      <th></th>\n",
       "      <th>Requirement</th>\n",
       "      <th>name</th>\n",
       "      <th>latitude</th>\n",
       "      <th>longitude</th>\n",
       "      <th>location</th>\n",
       "    </tr>\n",
       "  </thead>\n",
       "  <tbody>\n",
       "    <tr>\n",
       "      <th>0</th>\n",
       "      <td>Transport - Train</td>\n",
       "      <td>King Street Station (SEA)</td>\n",
       "      <td>47.598165</td>\n",
       "      <td>-122.330057</td>\n",
       "      <td>{'type': 'Point', 'coordinates': [-122.3300572...</td>\n",
       "    </tr>\n",
       "    <tr>\n",
       "      <th>1</th>\n",
       "      <td>Transport - Train</td>\n",
       "      <td>605 Union Station</td>\n",
       "      <td>47.603813</td>\n",
       "      <td>-122.329789</td>\n",
       "      <td>{'type': 'Point', 'coordinates': [-122.3297889...</td>\n",
       "    </tr>\n",
       "    <tr>\n",
       "      <th>2</th>\n",
       "      <td>Transport - Train</td>\n",
       "      <td>King Street Gate 7</td>\n",
       "      <td>47.598393</td>\n",
       "      <td>-122.329291</td>\n",
       "      <td>{'type': 'Point', 'coordinates': [-122.329291,...</td>\n",
       "    </tr>\n",
       "    <tr>\n",
       "      <th>3</th>\n",
       "      <td>Transport - Train</td>\n",
       "      <td>Amtrak Empire Builder</td>\n",
       "      <td>47.597992</td>\n",
       "      <td>-122.329985</td>\n",
       "      <td>{'type': 'Point', 'coordinates': [-122.3299852...</td>\n",
       "    </tr>\n",
       "    <tr>\n",
       "      <th>4</th>\n",
       "      <td>Transport - Train</td>\n",
       "      <td>Track 7 King Street Station</td>\n",
       "      <td>47.597633</td>\n",
       "      <td>-122.331290</td>\n",
       "      <td>{'type': 'Point', 'coordinates': [-122.33129, ...</td>\n",
       "    </tr>\n",
       "  </tbody>\n",
       "</table>\n",
       "</div>"
      ],
      "text/plain": [
       "         Requirement                         name   latitude   longitude  \\\n",
       "0  Transport - Train    King Street Station (SEA)  47.598165 -122.330057   \n",
       "1  Transport - Train            605 Union Station  47.603813 -122.329789   \n",
       "2  Transport - Train           King Street Gate 7  47.598393 -122.329291   \n",
       "3  Transport - Train        Amtrak Empire Builder  47.597992 -122.329985   \n",
       "4  Transport - Train  Track 7 King Street Station  47.597633 -122.331290   \n",
       "\n",
       "                                            location  \n",
       "0  {'type': 'Point', 'coordinates': [-122.3300572...  \n",
       "1  {'type': 'Point', 'coordinates': [-122.3297889...  \n",
       "2  {'type': 'Point', 'coordinates': [-122.329291,...  \n",
       "3  {'type': 'Point', 'coordinates': [-122.3299852...  \n",
       "4  {'type': 'Point', 'coordinates': [-122.33129, ...  "
      ]
     },
     "execution_count": 29,
     "metadata": {},
     "output_type": "execute_result"
    }
   ],
   "source": [
    "train_result=getFromFoursquare('47.60312,-122.32384',10000,\"Train Station\",\"4bf58dd8d48988d129951735\")\n",
    "trains_list=[]\n",
    "for resp in train_result[\"response\"][\"groups\"]:\n",
    "    for item in resp[\"items\"]:\n",
    "        train_name=item['venue'][\"name\"]\n",
    "        train_latitud=item['venue'][\"location\"][\"lat\"]\n",
    "        train_longitud=item['venue'][\"location\"][\"lng\"]\n",
    "        trains_list.append({\"Requirement\":\"Transport - Train\",\"name\":train_name,\"latitude\":train_latitud,\"longitude\":train_longitud,\"location\":{\"type\":\"Point\",\"coordinates\":[train_longitud,train_latitud]}})\n",
    "\n",
    "trainstation_data=pd.DataFrame(trains_list)\n",
    "trainstation_data.head()"
   ]
  },
  {
   "cell_type": "code",
   "execution_count": 30,
   "metadata": {},
   "outputs": [
    {
     "name": "stdout",
     "output_type": "stream",
     "text": [
      "200\n"
     ]
    },
    {
     "data": {
      "text/html": [
       "<div>\n",
       "<style scoped>\n",
       "    .dataframe tbody tr th:only-of-type {\n",
       "        vertical-align: middle;\n",
       "    }\n",
       "\n",
       "    .dataframe tbody tr th {\n",
       "        vertical-align: top;\n",
       "    }\n",
       "\n",
       "    .dataframe thead th {\n",
       "        text-align: right;\n",
       "    }\n",
       "</style>\n",
       "<table border=\"1\" class=\"dataframe\">\n",
       "  <thead>\n",
       "    <tr style=\"text-align: right;\">\n",
       "      <th></th>\n",
       "      <th>Requirement</th>\n",
       "      <th>name</th>\n",
       "      <th>latitude</th>\n",
       "      <th>longitude</th>\n",
       "      <th>location</th>\n",
       "    </tr>\n",
       "  </thead>\n",
       "  <tbody>\n",
       "    <tr>\n",
       "      <th>0</th>\n",
       "      <td>Transport - Airports</td>\n",
       "      <td>King County International Airport</td>\n",
       "      <td>47.528166</td>\n",
       "      <td>-122.301826</td>\n",
       "      <td>{'type': 'Point', 'coordinates': [-122.3018264...</td>\n",
       "    </tr>\n",
       "    <tr>\n",
       "      <th>1</th>\n",
       "      <td>Transport - Airports</td>\n",
       "      <td>Signature Flight Support BFI - Boeing Field/Ki...</td>\n",
       "      <td>47.537634</td>\n",
       "      <td>-122.304032</td>\n",
       "      <td>{'type': 'Point', 'coordinates': [-122.3040317...</td>\n",
       "    </tr>\n",
       "    <tr>\n",
       "      <th>2</th>\n",
       "      <td>Transport - Airports</td>\n",
       "      <td>King County International Airport Airpark Hangars</td>\n",
       "      <td>47.520570</td>\n",
       "      <td>-122.298924</td>\n",
       "      <td>{'type': 'Point', 'coordinates': [-122.2989238...</td>\n",
       "    </tr>\n",
       "    <tr>\n",
       "      <th>3</th>\n",
       "      <td>Transport - Airports</td>\n",
       "      <td>Lake Union Seaplane Terminal</td>\n",
       "      <td>47.628547</td>\n",
       "      <td>-122.339838</td>\n",
       "      <td>{'type': 'Point', 'coordinates': [-122.3398377...</td>\n",
       "    </tr>\n",
       "    <tr>\n",
       "      <th>4</th>\n",
       "      <td>Transport - Airports</td>\n",
       "      <td>Airfield Business Center</td>\n",
       "      <td>47.521763</td>\n",
       "      <td>-122.299315</td>\n",
       "      <td>{'type': 'Point', 'coordinates': [-122.2993152...</td>\n",
       "    </tr>\n",
       "  </tbody>\n",
       "</table>\n",
       "</div>"
      ],
      "text/plain": [
       "            Requirement                                               name  \\\n",
       "0  Transport - Airports                  King County International Airport   \n",
       "1  Transport - Airports  Signature Flight Support BFI - Boeing Field/Ki...   \n",
       "2  Transport - Airports  King County International Airport Airpark Hangars   \n",
       "3  Transport - Airports                       Lake Union Seaplane Terminal   \n",
       "4  Transport - Airports                           Airfield Business Center   \n",
       "\n",
       "    latitude   longitude                                           location  \n",
       "0  47.528166 -122.301826  {'type': 'Point', 'coordinates': [-122.3018264...  \n",
       "1  47.537634 -122.304032  {'type': 'Point', 'coordinates': [-122.3040317...  \n",
       "2  47.520570 -122.298924  {'type': 'Point', 'coordinates': [-122.2989238...  \n",
       "3  47.628547 -122.339838  {'type': 'Point', 'coordinates': [-122.3398377...  \n",
       "4  47.521763 -122.299315  {'type': 'Point', 'coordinates': [-122.2993152...  "
      ]
     },
     "execution_count": 30,
     "metadata": {},
     "output_type": "execute_result"
    }
   ],
   "source": [
    "queryParams = {\n",
    "    \"location\": \"47.61186, -122.33581\",\n",
    "    \"radius\": \"10000\",\n",
    "    \"type\": \" International Airport\",\n",
    "    \"keyword\": \"Airport\",\n",
    "    \"key\": apiKey\n",
    "}\n",
    "\n",
    "result=getFromApi(\"/place/nearbysearch/json\",queryParams,apiKey=apiKey)\n",
    "airports_list=[]\n",
    "for loc in result[\"results\"]:\n",
    "        airports_list.append({\"Requirement\":\"Transport - Airports\",\"name\":loc[\"name\"],\"latitude\":loc[\"geometry\"][\"location\"][\"lat\"],\"longitude\":loc[\"geometry\"][\"location\"][\"lng\"],\"location\":\n",
    "                                    {\"type\":\"Point\",\n",
    "                                     \"coordinates\":[loc[\"geometry\"][\"location\"][\"lng\"],loc[\"geometry\"][\"location\"][\"lat\"]]}})\n",
    "airports_data=pd.DataFrame(airports_list)\n",
    "airports_data.head()"
   ]
  },
  {
   "cell_type": "code",
   "execution_count": 31,
   "metadata": {},
   "outputs": [],
   "source": [
    "transport_data=pd.concat([airports_data,metro_data,trainstation_data],axis=0)\n",
    "transport_data.to_json(\"OUTPUT/transport_data.json\",orient=\"records\")"
   ]
  },
  {
   "cell_type": "markdown",
   "metadata": {},
   "source": [
    "## 4º Requirement: 30% of the company have at least 1 child."
   ]
  },
  {
   "cell_type": "markdown",
   "metadata": {},
   "source": [
    "**Buscamos colegios en la zona:**"
   ]
  },
  {
   "cell_type": "code",
   "execution_count": 32,
   "metadata": {},
   "outputs": [
    {
     "name": "stdout",
     "output_type": "stream",
     "text": [
      "200\n"
     ]
    },
    {
     "data": {
      "text/html": [
       "<div>\n",
       "<style scoped>\n",
       "    .dataframe tbody tr th:only-of-type {\n",
       "        vertical-align: middle;\n",
       "    }\n",
       "\n",
       "    .dataframe tbody tr th {\n",
       "        vertical-align: top;\n",
       "    }\n",
       "\n",
       "    .dataframe thead th {\n",
       "        text-align: right;\n",
       "    }\n",
       "</style>\n",
       "<table border=\"1\" class=\"dataframe\">\n",
       "  <thead>\n",
       "    <tr style=\"text-align: right;\">\n",
       "      <th></th>\n",
       "      <th>Requirement</th>\n",
       "      <th>name</th>\n",
       "      <th>latitude</th>\n",
       "      <th>longitude</th>\n",
       "      <th>location</th>\n",
       "    </tr>\n",
       "  </thead>\n",
       "  <tbody>\n",
       "    <tr>\n",
       "      <th>0</th>\n",
       "      <td>Schools</td>\n",
       "      <td>Bright Horizons at Belltown</td>\n",
       "      <td>47.616922</td>\n",
       "      <td>-122.339203</td>\n",
       "      <td>{'type': 'Point', 'coordinates': [-122.3392031...</td>\n",
       "    </tr>\n",
       "    <tr>\n",
       "      <th>1</th>\n",
       "      <td>Schools</td>\n",
       "      <td>Bright Horizons at Seneca Street</td>\n",
       "      <td>47.612295</td>\n",
       "      <td>-122.319079</td>\n",
       "      <td>{'type': 'Point', 'coordinates': [-122.3190792...</td>\n",
       "    </tr>\n",
       "    <tr>\n",
       "      <th>2</th>\n",
       "      <td>Schools</td>\n",
       "      <td>mermaids lagoon</td>\n",
       "      <td>47.581009</td>\n",
       "      <td>-122.335738</td>\n",
       "      <td>{'type': 'Point', 'coordinates': [-122.3357381...</td>\n",
       "    </tr>\n",
       "    <tr>\n",
       "      <th>3</th>\n",
       "      <td>Schools</td>\n",
       "      <td>Illuminate School</td>\n",
       "      <td>47.641495</td>\n",
       "      <td>-122.320651</td>\n",
       "      <td>{'type': 'Point', 'coordinates': [-122.3206511...</td>\n",
       "    </tr>\n",
       "    <tr>\n",
       "      <th>4</th>\n",
       "      <td>Schools</td>\n",
       "      <td>The Andover School</td>\n",
       "      <td>47.580017</td>\n",
       "      <td>-122.385389</td>\n",
       "      <td>{'type': 'Point', 'coordinates': [-122.385389,...</td>\n",
       "    </tr>\n",
       "  </tbody>\n",
       "</table>\n",
       "</div>"
      ],
      "text/plain": [
       "  Requirement                              name   latitude   longitude  \\\n",
       "0     Schools       Bright Horizons at Belltown  47.616922 -122.339203   \n",
       "1     Schools  Bright Horizons at Seneca Street  47.612295 -122.319079   \n",
       "2     Schools                   mermaids lagoon  47.581009 -122.335738   \n",
       "3     Schools                 Illuminate School  47.641495 -122.320651   \n",
       "4     Schools                The Andover School  47.580017 -122.385389   \n",
       "\n",
       "                                            location  \n",
       "0  {'type': 'Point', 'coordinates': [-122.3392031...  \n",
       "1  {'type': 'Point', 'coordinates': [-122.3190792...  \n",
       "2  {'type': 'Point', 'coordinates': [-122.3357381...  \n",
       "3  {'type': 'Point', 'coordinates': [-122.3206511...  \n",
       "4  {'type': 'Point', 'coordinates': [-122.385389,...  "
      ]
     },
     "execution_count": 32,
     "metadata": {},
     "output_type": "execute_result"
    }
   ],
   "source": [
    "queryParams = {\n",
    "    \"location\": \"47.61186, -122.33581\",\n",
    "    \"radius\": \"5000\",\n",
    "    \"type\": \"Schools\",\n",
    "    \"keyword\":\"Nursery School\",\n",
    "    \"key\": apiKey\n",
    "}\n",
    "\n",
    "result=getFromApi(\"/place/nearbysearch/json\",queryParams,apiKey=apiKey)\n",
    "Schools_locations=[]\n",
    "for loc in result[\"results\"]:\n",
    "        Schools_locations.append({\"Requirement\":\"Schools\",\"name\":loc[\"name\"],\"latitude\":loc[\"geometry\"][\"location\"][\"lat\"],\"longitude\":loc[\"geometry\"][\"location\"][\"lng\"],\"location\":\n",
    "                                    {\"type\":\"Point\",\n",
    "                                     \"coordinates\":[loc[\"geometry\"][\"location\"][\"lng\"],loc[\"geometry\"][\"location\"][\"lat\"]]}})\n",
    "schools_data=pd.DataFrame(Schools_locations)\n",
    "schools_data.head()"
   ]
  },
  {
   "cell_type": "code",
   "execution_count": 33,
   "metadata": {},
   "outputs": [],
   "source": [
    "schools_data.to_json(\"OUTPUT/schools_data.json\",orient=\"records\")"
   ]
  },
  {
   "cell_type": "markdown",
   "metadata": {},
   "source": [
    "## 5º Requirement: Executives like Starbucks A LOT. Ensure there's a starbucks not to far."
   ]
  },
  {
   "cell_type": "markdown",
   "metadata": {},
   "source": [
    "**Buscamos Strabucks de la zona:**"
   ]
  },
  {
   "cell_type": "code",
   "execution_count": 34,
   "metadata": {},
   "outputs": [
    {
     "name": "stdout",
     "output_type": "stream",
     "text": [
      "200\n"
     ]
    },
    {
     "data": {
      "text/html": [
       "<div>\n",
       "<style scoped>\n",
       "    .dataframe tbody tr th:only-of-type {\n",
       "        vertical-align: middle;\n",
       "    }\n",
       "\n",
       "    .dataframe tbody tr th {\n",
       "        vertical-align: top;\n",
       "    }\n",
       "\n",
       "    .dataframe thead th {\n",
       "        text-align: right;\n",
       "    }\n",
       "</style>\n",
       "<table border=\"1\" class=\"dataframe\">\n",
       "  <thead>\n",
       "    <tr style=\"text-align: right;\">\n",
       "      <th></th>\n",
       "      <th>Requirement</th>\n",
       "      <th>name</th>\n",
       "      <th>latitude</th>\n",
       "      <th>longitude</th>\n",
       "      <th>location</th>\n",
       "    </tr>\n",
       "  </thead>\n",
       "  <tbody>\n",
       "    <tr>\n",
       "      <th>0</th>\n",
       "      <td>Starbucks</td>\n",
       "      <td>Starbucks</td>\n",
       "      <td>47.610021</td>\n",
       "      <td>-122.342583</td>\n",
       "      <td>{'type': 'Point', 'coordinates': [-122.342583,...</td>\n",
       "    </tr>\n",
       "    <tr>\n",
       "      <th>1</th>\n",
       "      <td>Starbucks</td>\n",
       "      <td>Starbucks</td>\n",
       "      <td>47.607171</td>\n",
       "      <td>-122.309950</td>\n",
       "      <td>{'type': 'Point', 'coordinates': [-122.30995, ...</td>\n",
       "    </tr>\n",
       "    <tr>\n",
       "      <th>2</th>\n",
       "      <td>Starbucks</td>\n",
       "      <td>Starbucks</td>\n",
       "      <td>47.621039</td>\n",
       "      <td>-122.350774</td>\n",
       "      <td>{'type': 'Point', 'coordinates': [-122.3507743...</td>\n",
       "    </tr>\n",
       "    <tr>\n",
       "      <th>3</th>\n",
       "      <td>Starbucks</td>\n",
       "      <td>Starbucks</td>\n",
       "      <td>47.579085</td>\n",
       "      <td>-122.299620</td>\n",
       "      <td>{'type': 'Point', 'coordinates': [-122.2996199...</td>\n",
       "    </tr>\n",
       "    <tr>\n",
       "      <th>4</th>\n",
       "      <td>Starbucks</td>\n",
       "      <td>Starbucks</td>\n",
       "      <td>47.609009</td>\n",
       "      <td>-122.339942</td>\n",
       "      <td>{'type': 'Point', 'coordinates': [-122.3399417...</td>\n",
       "    </tr>\n",
       "  </tbody>\n",
       "</table>\n",
       "</div>"
      ],
      "text/plain": [
       "  Requirement       name   latitude   longitude  \\\n",
       "0   Starbucks  Starbucks  47.610021 -122.342583   \n",
       "1   Starbucks  Starbucks  47.607171 -122.309950   \n",
       "2   Starbucks  Starbucks  47.621039 -122.350774   \n",
       "3   Starbucks  Starbucks  47.579085 -122.299620   \n",
       "4   Starbucks  Starbucks  47.609009 -122.339942   \n",
       "\n",
       "                                            location  \n",
       "0  {'type': 'Point', 'coordinates': [-122.342583,...  \n",
       "1  {'type': 'Point', 'coordinates': [-122.30995, ...  \n",
       "2  {'type': 'Point', 'coordinates': [-122.3507743...  \n",
       "3  {'type': 'Point', 'coordinates': [-122.2996199...  \n",
       "4  {'type': 'Point', 'coordinates': [-122.3399417...  "
      ]
     },
     "execution_count": 34,
     "metadata": {},
     "output_type": "execute_result"
    }
   ],
   "source": [
    "queryParams = {\n",
    "    \"location\": \"47.61186, -122.33581\",\n",
    "    \"radius\": \"5000\",\n",
    "    \"type\": \"CoffeeShop\",\n",
    "    \"keyword\":\"Starbucks\",\n",
    "    \"key\": apiKey\n",
    "}\n",
    "\n",
    "result=getFromApi(\"/place/nearbysearch/json\",queryParams,apiKey=apiKey)\n",
    "Starbucks_locations=[]\n",
    "for loc in result[\"results\"]:\n",
    "    if loc[\"name\"]==\"Starbucks\":\n",
    "        Starbucks_locations.append({\"Requirement\":\"Starbucks\",\"name\":loc[\"name\"],\"latitude\":loc[\"geometry\"][\"location\"][\"lat\"],\"longitude\":loc[\"geometry\"][\"location\"][\"lng\"],\"location\":\n",
    "                                    {\"type\":\"Point\",\n",
    "                                     \"coordinates\":[loc[\"geometry\"][\"location\"][\"lng\"],loc[\"geometry\"][\"location\"][\"lat\"]]}})\n",
    "Starbucks_data=pd.DataFrame(Starbucks_locations)\n",
    "Starbucks_data.head()"
   ]
  },
  {
   "cell_type": "code",
   "execution_count": 35,
   "metadata": {},
   "outputs": [],
   "source": [
    "Starbucks_data.to_json(\"OUTPUT/starbucks_data.json\",orient=\"records\")"
   ]
  },
  {
   "cell_type": "markdown",
   "metadata": {},
   "source": [
    "## 6º Requirement: All people in the company have between 25 and 40 years, give them some place to go to party."
   ]
  },
  {
   "cell_type": "markdown",
   "metadata": {},
   "source": [
    "**Buscamos pubs en la zona:**"
   ]
  },
  {
   "cell_type": "code",
   "execution_count": 36,
   "metadata": {},
   "outputs": [
    {
     "name": "stdout",
     "output_type": "stream",
     "text": [
      "200\n"
     ]
    },
    {
     "data": {
      "text/html": [
       "<div>\n",
       "<style scoped>\n",
       "    .dataframe tbody tr th:only-of-type {\n",
       "        vertical-align: middle;\n",
       "    }\n",
       "\n",
       "    .dataframe tbody tr th {\n",
       "        vertical-align: top;\n",
       "    }\n",
       "\n",
       "    .dataframe thead th {\n",
       "        text-align: right;\n",
       "    }\n",
       "</style>\n",
       "<table border=\"1\" class=\"dataframe\">\n",
       "  <thead>\n",
       "    <tr style=\"text-align: right;\">\n",
       "      <th></th>\n",
       "      <th>Requirement</th>\n",
       "      <th>name</th>\n",
       "      <th>latitude</th>\n",
       "      <th>longitude</th>\n",
       "      <th>location</th>\n",
       "    </tr>\n",
       "  </thead>\n",
       "  <tbody>\n",
       "    <tr>\n",
       "      <th>0</th>\n",
       "      <td>Pubs</td>\n",
       "      <td>The Pike Brewing Company</td>\n",
       "      <td>47.608232</td>\n",
       "      <td>-122.339743</td>\n",
       "      <td>{'type': 'Point', 'coordinates': [-122.339743,...</td>\n",
       "    </tr>\n",
       "    <tr>\n",
       "      <th>1</th>\n",
       "      <td>Pubs</td>\n",
       "      <td>Flatstick Pub - Pioneer Square</td>\n",
       "      <td>47.600143</td>\n",
       "      <td>-122.331002</td>\n",
       "      <td>{'type': 'Point', 'coordinates': [-122.3310024...</td>\n",
       "    </tr>\n",
       "    <tr>\n",
       "      <th>2</th>\n",
       "      <td>Pubs</td>\n",
       "      <td>Hopvine Pub</td>\n",
       "      <td>47.623362</td>\n",
       "      <td>-122.312815</td>\n",
       "      <td>{'type': 'Point', 'coordinates': [-122.3128147...</td>\n",
       "    </tr>\n",
       "    <tr>\n",
       "      <th>3</th>\n",
       "      <td>Pubs</td>\n",
       "      <td>McMenamins Six Arms</td>\n",
       "      <td>47.614108</td>\n",
       "      <td>-122.327767</td>\n",
       "      <td>{'type': 'Point', 'coordinates': [-122.3277668...</td>\n",
       "    </tr>\n",
       "    <tr>\n",
       "      <th>4</th>\n",
       "      <td>Pubs</td>\n",
       "      <td>Blarney Stone Pub &amp; Restaurant</td>\n",
       "      <td>47.608279</td>\n",
       "      <td>-122.339295</td>\n",
       "      <td>{'type': 'Point', 'coordinates': [-122.3392946...</td>\n",
       "    </tr>\n",
       "  </tbody>\n",
       "</table>\n",
       "</div>"
      ],
      "text/plain": [
       "  Requirement                            name   latitude   longitude  \\\n",
       "0        Pubs        The Pike Brewing Company  47.608232 -122.339743   \n",
       "1        Pubs  Flatstick Pub - Pioneer Square  47.600143 -122.331002   \n",
       "2        Pubs                     Hopvine Pub  47.623362 -122.312815   \n",
       "3        Pubs             McMenamins Six Arms  47.614108 -122.327767   \n",
       "4        Pubs  Blarney Stone Pub & Restaurant  47.608279 -122.339295   \n",
       "\n",
       "                                            location  \n",
       "0  {'type': 'Point', 'coordinates': [-122.339743,...  \n",
       "1  {'type': 'Point', 'coordinates': [-122.3310024...  \n",
       "2  {'type': 'Point', 'coordinates': [-122.3128147...  \n",
       "3  {'type': 'Point', 'coordinates': [-122.3277668...  \n",
       "4  {'type': 'Point', 'coordinates': [-122.3392946...  "
      ]
     },
     "execution_count": 36,
     "metadata": {},
     "output_type": "execute_result"
    }
   ],
   "source": [
    "queryParams = {\n",
    "    \"location\": \"47.61186, -122.33581\",\n",
    "    \"radius\": \"5000\",\n",
    "    \"type\": \"Lounge\",\n",
    "    \"keyword\":\"Pub\",\n",
    "    \"key\": apiKey\n",
    "}\n",
    "\n",
    "result=getFromApi(\"/place/nearbysearch/json\",queryParams,apiKey=apiKey)\n",
    "pubs_locations=[]\n",
    "for loc in result[\"results\"]:\n",
    "        pubs_locations.append({\"Requirement\":\"Pubs\",\"name\":loc[\"name\"],\"latitude\":loc[\"geometry\"][\"location\"][\"lat\"],\"longitude\":loc[\"geometry\"][\"location\"][\"lng\"],\"location\":\n",
    "                                    {\"type\":\"Point\",\n",
    "                                     \"coordinates\":[loc[\"geometry\"][\"location\"][\"lng\"],loc[\"geometry\"][\"location\"][\"lat\"]]}})\n",
    "pubs_data=pd.DataFrame(pubs_locations)\n",
    "pubs_data.head()"
   ]
  },
  {
   "cell_type": "code",
   "execution_count": 37,
   "metadata": {},
   "outputs": [],
   "source": [
    "pubs_data.to_json(\"OUTPUT/pubs_data.json\",orient=\"records\")"
   ]
  },
  {
   "cell_type": "markdown",
   "metadata": {},
   "source": [
    "**Juntamos todos los requirements en un mismo dataframe:**"
   ]
  },
  {
   "cell_type": "code",
   "execution_count": 38,
   "metadata": {},
   "outputs": [],
   "source": [
    "requirements_data=pd.concat([millioncompanies_data,airports_data,metro_data,trainstation_data,Vegan_data,Starbucks_data,schools_data,pubs_data],axis=0)"
   ]
  },
  {
   "cell_type": "code",
   "execution_count": 39,
   "metadata": {},
   "outputs": [
    {
     "data": {
      "text/html": [
       "<div>\n",
       "<style scoped>\n",
       "    .dataframe tbody tr th:only-of-type {\n",
       "        vertical-align: middle;\n",
       "    }\n",
       "\n",
       "    .dataframe tbody tr th {\n",
       "        vertical-align: top;\n",
       "    }\n",
       "\n",
       "    .dataframe thead th {\n",
       "        text-align: right;\n",
       "    }\n",
       "</style>\n",
       "<table border=\"1\" class=\"dataframe\">\n",
       "  <thead>\n",
       "    <tr style=\"text-align: right;\">\n",
       "      <th></th>\n",
       "      <th>Requirement</th>\n",
       "      <th>name</th>\n",
       "      <th>latitude</th>\n",
       "      <th>longitude</th>\n",
       "      <th>location</th>\n",
       "    </tr>\n",
       "  </thead>\n",
       "  <tbody>\n",
       "    <tr>\n",
       "      <th>0</th>\n",
       "      <td>TechCompanies raised more 1 million</td>\n",
       "      <td>Wetpaint</td>\n",
       "      <td>47.603122</td>\n",
       "      <td>-122.333253</td>\n",
       "      <td>{'type': 'Point', 'coordinates': [-122.333253,...</td>\n",
       "    </tr>\n",
       "    <tr>\n",
       "      <th>0</th>\n",
       "      <td>TechCompanies raised more 1 million</td>\n",
       "      <td>Wetpaint</td>\n",
       "      <td>40.723731</td>\n",
       "      <td>-73.996431</td>\n",
       "      <td>{'type': 'Point', 'coordinates': [-73.9964312,...</td>\n",
       "    </tr>\n",
       "    <tr>\n",
       "      <th>2</th>\n",
       "      <td>TechCompanies raised more 1 million</td>\n",
       "      <td>Newsvine</td>\n",
       "      <td>47.618599</td>\n",
       "      <td>-122.358484</td>\n",
       "      <td>{'type': 'Point', 'coordinates': [-122.358484,...</td>\n",
       "    </tr>\n",
       "    <tr>\n",
       "      <th>3</th>\n",
       "      <td>TechCompanies raised more 1 million</td>\n",
       "      <td>iLike</td>\n",
       "      <td>47.615313</td>\n",
       "      <td>-122.323408</td>\n",
       "      <td>{'type': 'Point', 'coordinates': [-122.323408,...</td>\n",
       "    </tr>\n",
       "    <tr>\n",
       "      <th>4</th>\n",
       "      <td>TechCompanies raised more 1 million</td>\n",
       "      <td>PayScale</td>\n",
       "      <td>47.599934</td>\n",
       "      <td>-122.327696</td>\n",
       "      <td>{'type': 'Point', 'coordinates': [-122.3276962...</td>\n",
       "    </tr>\n",
       "  </tbody>\n",
       "</table>\n",
       "</div>"
      ],
      "text/plain": [
       "                           Requirement      name   latitude   longitude  \\\n",
       "0  TechCompanies raised more 1 million  Wetpaint  47.603122 -122.333253   \n",
       "0  TechCompanies raised more 1 million  Wetpaint  40.723731  -73.996431   \n",
       "2  TechCompanies raised more 1 million  Newsvine  47.618599 -122.358484   \n",
       "3  TechCompanies raised more 1 million     iLike  47.615313 -122.323408   \n",
       "4  TechCompanies raised more 1 million  PayScale  47.599934 -122.327696   \n",
       "\n",
       "                                            location  \n",
       "0  {'type': 'Point', 'coordinates': [-122.333253,...  \n",
       "0  {'type': 'Point', 'coordinates': [-73.9964312,...  \n",
       "2  {'type': 'Point', 'coordinates': [-122.358484,...  \n",
       "3  {'type': 'Point', 'coordinates': [-122.323408,...  \n",
       "4  {'type': 'Point', 'coordinates': [-122.3276962...  "
      ]
     },
     "execution_count": 39,
     "metadata": {},
     "output_type": "execute_result"
    }
   ],
   "source": [
    "requirements_data.head()"
   ]
  },
  {
   "cell_type": "code",
   "execution_count": 40,
   "metadata": {},
   "outputs": [
    {
     "data": {
      "text/plain": [
       "TechCompanies raised more 1 million    56\n",
       "Vegan Restaurant                       30\n",
       "Transport - Train                      30\n",
       "Pubs                                   20\n",
       "Schools                                20\n",
       "Starbucks                              18\n",
       "Transport - Airports                   13\n",
       "Transport - Metro                      12\n",
       "Name: Requirement, dtype: int64"
      ]
     },
     "execution_count": 40,
     "metadata": {},
     "output_type": "execute_result"
    }
   ],
   "source": [
    "requirements_data[\"Requirement\"].value_counts()"
   ]
  },
  {
   "cell_type": "code",
   "execution_count": 41,
   "metadata": {},
   "outputs": [],
   "source": [
    "requirements_data.to_json(\"OUTPUT/requirements_data.json\",orient=\"records\")"
   ]
  },
  {
   "cell_type": "markdown",
   "metadata": {},
   "source": [
    "**Mapa con todos los requirements:**"
   ]
  },
  {
   "cell_type": "markdown",
   "metadata": {},
   "source": [
    "https://public.tableau.com/profile/macarena6661#!/vizhome/RequirementsOfficesSeattleMap/Hoja1?publish=yes"
   ]
  }
 ],
 "metadata": {
  "kernelspec": {
   "display_name": "Python 3",
   "language": "python",
   "name": "python3"
  },
  "language_info": {
   "codemirror_mode": {
    "name": "ipython",
    "version": 3
   },
   "file_extension": ".py",
   "mimetype": "text/x-python",
   "name": "python",
   "nbconvert_exporter": "python",
   "pygments_lexer": "ipython3",
   "version": "3.7.7"
  }
 },
 "nbformat": 4,
 "nbformat_minor": 4
}
