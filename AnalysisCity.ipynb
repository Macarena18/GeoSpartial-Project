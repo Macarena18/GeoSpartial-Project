{
 "cells": [
  {
   "cell_type": "markdown",
   "metadata": {},
   "source": [
    "# City Location Election:"
   ]
  },
  {
   "cell_type": "code",
   "execution_count": 53,
   "metadata": {},
   "outputs": [],
   "source": [
    "import pandas as pd\n",
    "import requests\n",
    "import os\n",
    "from dotenv import load_dotenv\n",
    "from bs4 import BeautifulSoup\n",
    "from pymongo import MongoClient\n",
    "from pandas.io.json import json_normalize\n",
    "import matplotlib.pyplot as plt\n",
    "import folium\n",
    "import numpy as np\n",
    "from API import *"
   ]
  },
  {
   "cell_type": "markdown",
   "metadata": {},
   "source": [
    "**Importar database de Companies:**"
   ]
  },
  {
   "cell_type": "code",
   "execution_count": 26,
   "metadata": {},
   "outputs": [
    {
     "name": "stdout",
     "output_type": "stream",
     "text": [
      "mongodb://localhost/companies\n"
     ]
    }
   ],
   "source": [
    "dbName = \"companies\"\n",
    "mongodbURL = f\"mongodb://localhost/{dbName}\"\n",
    "print(mongodbURL)\n",
    "client = MongoClient(mongodbURL, connectTimeoutMS=2000,serverSelectionTimeoutMS=2000)\n",
    "db = client.get_database()"
   ]
  },
  {
   "cell_type": "markdown",
   "metadata": {},
   "source": [
    "**Filtro dataset por empresas de gaming:**"
   ]
  },
  {
   "cell_type": "code",
   "execution_count": 27,
   "metadata": {
    "scrolled": true
   },
   "outputs": [
    {
     "data": {
      "text/html": [
       "<div>\n",
       "<style scoped>\n",
       "    .dataframe tbody tr th:only-of-type {\n",
       "        vertical-align: middle;\n",
       "    }\n",
       "\n",
       "    .dataframe tbody tr th {\n",
       "        vertical-align: top;\n",
       "    }\n",
       "\n",
       "    .dataframe thead th {\n",
       "        text-align: right;\n",
       "    }\n",
       "</style>\n",
       "<table border=\"1\" class=\"dataframe\">\n",
       "  <thead>\n",
       "    <tr style=\"text-align: right;\">\n",
       "      <th></th>\n",
       "      <th>_id</th>\n",
       "      <th>name</th>\n",
       "      <th>founded_year</th>\n",
       "      <th>total_money_raised</th>\n",
       "      <th>offices</th>\n",
       "    </tr>\n",
       "  </thead>\n",
       "  <tbody>\n",
       "    <tr>\n",
       "      <th>0</th>\n",
       "      <td>52cdef7c4bab8bd675297d92</td>\n",
       "      <td>Flektor</td>\n",
       "      <td>NaN</td>\n",
       "      <td>$0</td>\n",
       "      <td>{'description': None, 'address1': '8536 Nation...</td>\n",
       "    </tr>\n",
       "    <tr>\n",
       "      <th>1</th>\n",
       "      <td>52cdef7c4bab8bd675297d99</td>\n",
       "      <td>Lala</td>\n",
       "      <td>NaN</td>\n",
       "      <td>$44.2M</td>\n",
       "      <td>{'description': 'Lala Headquarters', 'address1...</td>\n",
       "    </tr>\n",
       "    <tr>\n",
       "      <th>2</th>\n",
       "      <td>52cdef7c4bab8bd675297d9d</td>\n",
       "      <td>Joost</td>\n",
       "      <td>2006.0</td>\n",
       "      <td>$45M</td>\n",
       "      <td>{'description': '', 'address1': '100 5th Ave F...</td>\n",
       "    </tr>\n",
       "    <tr>\n",
       "      <th>3</th>\n",
       "      <td>52cdef7c4bab8bd675297da0</td>\n",
       "      <td>Babelgum</td>\n",
       "      <td>2007.0</td>\n",
       "      <td>$13.2M</td>\n",
       "      <td>{'description': '', 'address1': '', 'address2'...</td>\n",
       "    </tr>\n",
       "    <tr>\n",
       "      <th>4</th>\n",
       "      <td>52cdef7c4bab8bd675297daa</td>\n",
       "      <td>Sparter</td>\n",
       "      <td>2007.0</td>\n",
       "      <td>$0</td>\n",
       "      <td>{'description': None, 'address1': None, 'addre...</td>\n",
       "    </tr>\n",
       "    <tr>\n",
       "      <th>...</th>\n",
       "      <td>...</td>\n",
       "      <td>...</td>\n",
       "      <td>...</td>\n",
       "      <td>...</td>\n",
       "      <td>...</td>\n",
       "    </tr>\n",
       "    <tr>\n",
       "      <th>1079</th>\n",
       "      <td>52cdef7f4bab8bd67529c676</td>\n",
       "      <td>Rev Media</td>\n",
       "      <td>2008.0</td>\n",
       "      <td>$0</td>\n",
       "      <td>{'description': 'HQ', 'address1': '', 'address...</td>\n",
       "    </tr>\n",
       "    <tr>\n",
       "      <th>1080</th>\n",
       "      <td>52cdef7f4bab8bd67529c694</td>\n",
       "      <td>Fictionaut</td>\n",
       "      <td>2008.0</td>\n",
       "      <td>$0</td>\n",
       "      <td>{'description': 'New York', 'address1': '32-14...</td>\n",
       "    </tr>\n",
       "    <tr>\n",
       "      <th>1080</th>\n",
       "      <td>52cdef7f4bab8bd67529c694</td>\n",
       "      <td>Fictionaut</td>\n",
       "      <td>2008.0</td>\n",
       "      <td>$0</td>\n",
       "      <td>{'description': 'Houston', 'address1': '2208 C...</td>\n",
       "    </tr>\n",
       "    <tr>\n",
       "      <th>1081</th>\n",
       "      <td>52cdef7f4bab8bd67529c6b6</td>\n",
       "      <td>Tiny Speck</td>\n",
       "      <td>2009.0</td>\n",
       "      <td>$17.2M</td>\n",
       "      <td>{'description': '', 'address1': '163 Hastings ...</td>\n",
       "    </tr>\n",
       "    <tr>\n",
       "      <th>1082</th>\n",
       "      <td>52cdef7f4bab8bd67529c6c2</td>\n",
       "      <td>My TV Shows</td>\n",
       "      <td>2007.0</td>\n",
       "      <td>$0</td>\n",
       "      <td>{'description': 'Lisbon Office', 'address1': '...</td>\n",
       "    </tr>\n",
       "  </tbody>\n",
       "</table>\n",
       "<p>1200 rows × 5 columns</p>\n",
       "</div>"
      ],
      "text/plain": [
       "                           _id         name  founded_year total_money_raised  \\\n",
       "0     52cdef7c4bab8bd675297d92      Flektor           NaN                 $0   \n",
       "1     52cdef7c4bab8bd675297d99         Lala           NaN             $44.2M   \n",
       "2     52cdef7c4bab8bd675297d9d        Joost        2006.0               $45M   \n",
       "3     52cdef7c4bab8bd675297da0     Babelgum        2007.0             $13.2M   \n",
       "4     52cdef7c4bab8bd675297daa      Sparter        2007.0                 $0   \n",
       "...                        ...          ...           ...                ...   \n",
       "1079  52cdef7f4bab8bd67529c676    Rev Media        2008.0                 $0   \n",
       "1080  52cdef7f4bab8bd67529c694   Fictionaut        2008.0                 $0   \n",
       "1080  52cdef7f4bab8bd67529c694   Fictionaut        2008.0                 $0   \n",
       "1081  52cdef7f4bab8bd67529c6b6   Tiny Speck        2009.0             $17.2M   \n",
       "1082  52cdef7f4bab8bd67529c6c2  My TV Shows        2007.0                 $0   \n",
       "\n",
       "                                                offices  \n",
       "0     {'description': None, 'address1': '8536 Nation...  \n",
       "1     {'description': 'Lala Headquarters', 'address1...  \n",
       "2     {'description': '', 'address1': '100 5th Ave F...  \n",
       "3     {'description': '', 'address1': '', 'address2'...  \n",
       "4     {'description': None, 'address1': None, 'addre...  \n",
       "...                                                 ...  \n",
       "1079  {'description': 'HQ', 'address1': '', 'address...  \n",
       "1080  {'description': 'New York', 'address1': '32-14...  \n",
       "1080  {'description': 'Houston', 'address1': '2208 C...  \n",
       "1081  {'description': '', 'address1': '163 Hastings ...  \n",
       "1082  {'description': 'Lisbon Office', 'address1': '...  \n",
       "\n",
       "[1200 rows x 5 columns]"
      ]
     },
     "execution_count": 27,
     "metadata": {},
     "output_type": "execute_result"
    }
   ],
   "source": [
    "cursor=db.companies.find({\"category_code\":\"games_video\"},{\"offices\":1,\"name\":1,\"total_money_raised\":1,\"founded_year\":1})\n",
    "games_data=pd.DataFrame(cursor)\n",
    "games_data=games_data.explode(\"offices\") # separar en diferentes rows las companies que tengan más de 1 office\n",
    "games_data"
   ]
  },
  {
   "cell_type": "markdown",
   "metadata": {},
   "source": [
    "**Separamos el contenido de la columna offices por Country y City**"
   ]
  },
  {
   "cell_type": "code",
   "execution_count": 28,
   "metadata": {},
   "outputs": [],
   "source": [
    "def officeCity(row):\n",
    "    office = row.offices\n",
    "    if type(office) == dict:\n",
    "        if 'country_code' in office and 'city' in office:\n",
    "            return ({\"name\":row[\"name\"], \"Country\":office[\"country_code\"],\"City\":office[\"city\"],\"Coordinates\":[office[\"latitude\"],office[\"longitude\"]]},\"success\")\n",
    "        else:\n",
    "            return (None,\"No country in office dict\")\n",
    "    return (None)"
   ]
  },
  {
   "cell_type": "code",
   "execution_count": 29,
   "metadata": {},
   "outputs": [],
   "source": [
    "cleaned_offices_games = games_data.apply(officeCity,axis=1,result_type=\"expand\")\n",
    "cleaned_offices_games.columns = [\"office\",\"clean_state\"]"
   ]
  },
  {
   "cell_type": "code",
   "execution_count": 30,
   "metadata": {},
   "outputs": [],
   "source": [
    "data_games = pd.concat([games_data,cleaned_offices_games], axis=1)\n",
    "data_games = data_games[[\"name\",\"total_money_raised\",\"founded_year\",\"office\",\"clean_state\"]]"
   ]
  },
  {
   "cell_type": "code",
   "execution_count": 31,
   "metadata": {},
   "outputs": [
    {
     "data": {
      "text/plain": [
       "name                    0\n",
       "total_money_raised      0\n",
       "founded_year          198\n",
       "office                244\n",
       "clean_state           244\n",
       "dtype: int64"
      ]
     },
     "execution_count": 31,
     "metadata": {},
     "output_type": "execute_result"
    }
   ],
   "source": [
    "data_games.isnull().sum()"
   ]
  },
  {
   "cell_type": "code",
   "execution_count": 32,
   "metadata": {},
   "outputs": [
    {
     "data": {
      "text/plain": [
       "name                    0\n",
       "total_money_raised      0\n",
       "founded_year          138\n",
       "office                  0\n",
       "clean_state             0\n",
       "dtype: int64"
      ]
     },
     "execution_count": 32,
     "metadata": {},
     "output_type": "execute_result"
    }
   ],
   "source": [
    "data_games=data_games.dropna(subset=[\"office\",\"clean_state\"])\n",
    "data_games.isnull().sum()"
   ]
  },
  {
   "cell_type": "code",
   "execution_count": 33,
   "metadata": {},
   "outputs": [
    {
     "data": {
      "text/html": [
       "<div>\n",
       "<style scoped>\n",
       "    .dataframe tbody tr th:only-of-type {\n",
       "        vertical-align: middle;\n",
       "    }\n",
       "\n",
       "    .dataframe tbody tr th {\n",
       "        vertical-align: top;\n",
       "    }\n",
       "\n",
       "    .dataframe thead th {\n",
       "        text-align: right;\n",
       "    }\n",
       "</style>\n",
       "<table border=\"1\" class=\"dataframe\">\n",
       "  <thead>\n",
       "    <tr style=\"text-align: right;\">\n",
       "      <th></th>\n",
       "      <th>name</th>\n",
       "      <th>total_money_raised</th>\n",
       "      <th>founded_year</th>\n",
       "      <th>office</th>\n",
       "    </tr>\n",
       "  </thead>\n",
       "  <tbody>\n",
       "    <tr>\n",
       "      <th>0</th>\n",
       "      <td>Flektor</td>\n",
       "      <td>$0</td>\n",
       "      <td>NaN</td>\n",
       "      <td>{'name': 'Flektor', 'Country': 'USA', 'City': ...</td>\n",
       "    </tr>\n",
       "    <tr>\n",
       "      <th>1</th>\n",
       "      <td>Lala</td>\n",
       "      <td>$44.2M</td>\n",
       "      <td>NaN</td>\n",
       "      <td>{'name': 'Lala', 'Country': 'USA', 'City': 'Pa...</td>\n",
       "    </tr>\n",
       "    <tr>\n",
       "      <th>2</th>\n",
       "      <td>Joost</td>\n",
       "      <td>$45M</td>\n",
       "      <td>2006.0</td>\n",
       "      <td>{'name': 'Joost', 'Country': 'USA', 'City': 'N...</td>\n",
       "    </tr>\n",
       "    <tr>\n",
       "      <th>3</th>\n",
       "      <td>Babelgum</td>\n",
       "      <td>$13.2M</td>\n",
       "      <td>2007.0</td>\n",
       "      <td>{'name': 'Babelgum', 'Country': 'GBR', 'City':...</td>\n",
       "    </tr>\n",
       "    <tr>\n",
       "      <th>4</th>\n",
       "      <td>Sparter</td>\n",
       "      <td>$0</td>\n",
       "      <td>2007.0</td>\n",
       "      <td>{'name': 'Sparter', 'Country': 'USA', 'City': ...</td>\n",
       "    </tr>\n",
       "  </tbody>\n",
       "</table>\n",
       "</div>"
      ],
      "text/plain": [
       "       name total_money_raised  founded_year  \\\n",
       "0   Flektor                 $0           NaN   \n",
       "1      Lala             $44.2M           NaN   \n",
       "2     Joost               $45M        2006.0   \n",
       "3  Babelgum             $13.2M        2007.0   \n",
       "4   Sparter                 $0        2007.0   \n",
       "\n",
       "                                              office  \n",
       "0  {'name': 'Flektor', 'Country': 'USA', 'City': ...  \n",
       "1  {'name': 'Lala', 'Country': 'USA', 'City': 'Pa...  \n",
       "2  {'name': 'Joost', 'Country': 'USA', 'City': 'N...  \n",
       "3  {'name': 'Babelgum', 'Country': 'GBR', 'City':...  \n",
       "4  {'name': 'Sparter', 'Country': 'USA', 'City': ...  "
      ]
     },
     "execution_count": 33,
     "metadata": {},
     "output_type": "execute_result"
    }
   ],
   "source": [
    "data_games.clean_state.value_counts()\n",
    "data_games=data_games.drop(columns=\"clean_state\")\n",
    "data_games.head()"
   ]
  },
  {
   "cell_type": "code",
   "execution_count": 34,
   "metadata": {},
   "outputs": [
    {
     "name": "stderr",
     "output_type": "stream",
     "text": [
      "/usr/local/lib/python3.7/site-packages/ipykernel_launcher.py:2: FutureWarning: pandas.io.json.json_normalize is deprecated, use pandas.json_normalize instead\n",
      "  \n"
     ]
    },
    {
     "data": {
      "text/html": [
       "<div>\n",
       "<style scoped>\n",
       "    .dataframe tbody tr th:only-of-type {\n",
       "        vertical-align: middle;\n",
       "    }\n",
       "\n",
       "    .dataframe tbody tr th {\n",
       "        vertical-align: top;\n",
       "    }\n",
       "\n",
       "    .dataframe thead th {\n",
       "        text-align: right;\n",
       "    }\n",
       "</style>\n",
       "<table border=\"1\" class=\"dataframe\">\n",
       "  <thead>\n",
       "    <tr style=\"text-align: right;\">\n",
       "      <th></th>\n",
       "      <th>name</th>\n",
       "      <th>Country</th>\n",
       "      <th>City</th>\n",
       "      <th>Coordinates</th>\n",
       "    </tr>\n",
       "  </thead>\n",
       "  <tbody>\n",
       "    <tr>\n",
       "      <th>0</th>\n",
       "      <td>Flektor</td>\n",
       "      <td>USA</td>\n",
       "      <td>Culver City</td>\n",
       "      <td>[34.025958, -118.379768]</td>\n",
       "    </tr>\n",
       "    <tr>\n",
       "      <th>1</th>\n",
       "      <td>Lala</td>\n",
       "      <td>USA</td>\n",
       "      <td>Palo Alto</td>\n",
       "      <td>[37.451151, -122.154369]</td>\n",
       "    </tr>\n",
       "    <tr>\n",
       "      <th>2</th>\n",
       "      <td>Joost</td>\n",
       "      <td>USA</td>\n",
       "      <td>New York</td>\n",
       "      <td>[40.7464969, -74.0094471]</td>\n",
       "    </tr>\n",
       "    <tr>\n",
       "      <th>3</th>\n",
       "      <td>Babelgum</td>\n",
       "      <td>GBR</td>\n",
       "      <td>London</td>\n",
       "      <td>[53.344104, -6.267494]</td>\n",
       "    </tr>\n",
       "    <tr>\n",
       "      <th>4</th>\n",
       "      <td>Sparter</td>\n",
       "      <td>USA</td>\n",
       "      <td>None</td>\n",
       "      <td>[37.09024, -95.712891]</td>\n",
       "    </tr>\n",
       "  </tbody>\n",
       "</table>\n",
       "</div>"
      ],
      "text/plain": [
       "       name Country         City                Coordinates\n",
       "0   Flektor     USA  Culver City   [34.025958, -118.379768]\n",
       "1      Lala     USA    Palo Alto   [37.451151, -122.154369]\n",
       "2     Joost     USA     New York  [40.7464969, -74.0094471]\n",
       "3  Babelgum     GBR       London     [53.344104, -6.267494]\n",
       "4   Sparter     USA         None     [37.09024, -95.712891]"
      ]
     },
     "execution_count": 34,
     "metadata": {},
     "output_type": "execute_result"
    }
   ],
   "source": [
    "office_list=list(data_games[\"office\"])\n",
    "offices_columns=json_normalize(office_list,max_level=1)\n",
    "offices_columns.head()"
   ]
  },
  {
   "cell_type": "code",
   "execution_count": 35,
   "metadata": {},
   "outputs": [
    {
     "data": {
      "text/html": [
       "<div>\n",
       "<style scoped>\n",
       "    .dataframe tbody tr th:only-of-type {\n",
       "        vertical-align: middle;\n",
       "    }\n",
       "\n",
       "    .dataframe tbody tr th {\n",
       "        vertical-align: top;\n",
       "    }\n",
       "\n",
       "    .dataframe thead th {\n",
       "        text-align: right;\n",
       "    }\n",
       "</style>\n",
       "<table border=\"1\" class=\"dataframe\">\n",
       "  <thead>\n",
       "    <tr style=\"text-align: right;\">\n",
       "      <th></th>\n",
       "      <th>name</th>\n",
       "      <th>total_money_raised</th>\n",
       "      <th>founded_year</th>\n",
       "      <th>office</th>\n",
       "      <th>Country</th>\n",
       "      <th>City</th>\n",
       "      <th>Coordinates</th>\n",
       "    </tr>\n",
       "  </thead>\n",
       "  <tbody>\n",
       "    <tr>\n",
       "      <th>0</th>\n",
       "      <td>Flektor</td>\n",
       "      <td>$0</td>\n",
       "      <td>NaN</td>\n",
       "      <td>{'name': 'Flektor', 'Country': 'USA', 'City': ...</td>\n",
       "      <td>USA</td>\n",
       "      <td>Culver City</td>\n",
       "      <td>[34.025958, -118.379768]</td>\n",
       "    </tr>\n",
       "    <tr>\n",
       "      <th>1</th>\n",
       "      <td>Lala</td>\n",
       "      <td>$44.2M</td>\n",
       "      <td>NaN</td>\n",
       "      <td>{'name': 'Lala', 'Country': 'USA', 'City': 'Pa...</td>\n",
       "      <td>USA</td>\n",
       "      <td>Palo Alto</td>\n",
       "      <td>[37.451151, -122.154369]</td>\n",
       "    </tr>\n",
       "    <tr>\n",
       "      <th>2</th>\n",
       "      <td>Joost</td>\n",
       "      <td>$45M</td>\n",
       "      <td>2006.0</td>\n",
       "      <td>{'name': 'Joost', 'Country': 'USA', 'City': 'N...</td>\n",
       "      <td>USA</td>\n",
       "      <td>New York</td>\n",
       "      <td>[40.7464969, -74.0094471]</td>\n",
       "    </tr>\n",
       "    <tr>\n",
       "      <th>3</th>\n",
       "      <td>Babelgum</td>\n",
       "      <td>$13.2M</td>\n",
       "      <td>2007.0</td>\n",
       "      <td>{'name': 'Babelgum', 'Country': 'GBR', 'City':...</td>\n",
       "      <td>GBR</td>\n",
       "      <td>London</td>\n",
       "      <td>[53.344104, -6.267494]</td>\n",
       "    </tr>\n",
       "    <tr>\n",
       "      <th>4</th>\n",
       "      <td>Sparter</td>\n",
       "      <td>$0</td>\n",
       "      <td>2007.0</td>\n",
       "      <td>{'name': 'Sparter', 'Country': 'USA', 'City': ...</td>\n",
       "      <td>USA</td>\n",
       "      <td>None</td>\n",
       "      <td>[37.09024, -95.712891]</td>\n",
       "    </tr>\n",
       "  </tbody>\n",
       "</table>\n",
       "</div>"
      ],
      "text/plain": [
       "       name total_money_raised  founded_year  \\\n",
       "0   Flektor                 $0           NaN   \n",
       "1      Lala             $44.2M           NaN   \n",
       "2     Joost               $45M        2006.0   \n",
       "3  Babelgum             $13.2M        2007.0   \n",
       "4   Sparter                 $0        2007.0   \n",
       "\n",
       "                                              office Country         City  \\\n",
       "0  {'name': 'Flektor', 'Country': 'USA', 'City': ...     USA  Culver City   \n",
       "1  {'name': 'Lala', 'Country': 'USA', 'City': 'Pa...     USA    Palo Alto   \n",
       "2  {'name': 'Joost', 'Country': 'USA', 'City': 'N...     USA     New York   \n",
       "3  {'name': 'Babelgum', 'Country': 'GBR', 'City':...     GBR       London   \n",
       "4  {'name': 'Sparter', 'Country': 'USA', 'City': ...     USA         None   \n",
       "\n",
       "                 Coordinates  \n",
       "0   [34.025958, -118.379768]  \n",
       "1   [37.451151, -122.154369]  \n",
       "2  [40.7464969, -74.0094471]  \n",
       "3     [53.344104, -6.267494]  \n",
       "4     [37.09024, -95.712891]  "
      ]
     },
     "execution_count": 35,
     "metadata": {},
     "output_type": "execute_result"
    }
   ],
   "source": [
    "gaming_companies_data=pd.merge(data_games,offices_columns,on=\"name\")\n",
    "gaming_companies_data.head()"
   ]
  },
  {
   "cell_type": "markdown",
   "metadata": {},
   "source": [
    "**Creamos columnas Latitude y Longitude:**"
   ]
  },
  {
   "cell_type": "code",
   "execution_count": 36,
   "metadata": {},
   "outputs": [
    {
     "data": {
      "text/html": [
       "<div>\n",
       "<style scoped>\n",
       "    .dataframe tbody tr th:only-of-type {\n",
       "        vertical-align: middle;\n",
       "    }\n",
       "\n",
       "    .dataframe tbody tr th {\n",
       "        vertical-align: top;\n",
       "    }\n",
       "\n",
       "    .dataframe thead th {\n",
       "        text-align: right;\n",
       "    }\n",
       "</style>\n",
       "<table border=\"1\" class=\"dataframe\">\n",
       "  <thead>\n",
       "    <tr style=\"text-align: right;\">\n",
       "      <th></th>\n",
       "      <th>name</th>\n",
       "      <th>total_money_raised</th>\n",
       "      <th>founded_year</th>\n",
       "      <th>office</th>\n",
       "      <th>Country</th>\n",
       "      <th>City</th>\n",
       "      <th>Coordinates</th>\n",
       "      <th>Latitude</th>\n",
       "      <th>Longitude</th>\n",
       "    </tr>\n",
       "  </thead>\n",
       "  <tbody>\n",
       "    <tr>\n",
       "      <th>0</th>\n",
       "      <td>Flektor</td>\n",
       "      <td>$0</td>\n",
       "      <td>NaN</td>\n",
       "      <td>{'name': 'Flektor', 'Country': 'USA', 'City': ...</td>\n",
       "      <td>USA</td>\n",
       "      <td>Culver City</td>\n",
       "      <td>[34.025958, -118.379768]</td>\n",
       "      <td>34.025958</td>\n",
       "      <td>-118.379768</td>\n",
       "    </tr>\n",
       "    <tr>\n",
       "      <th>1</th>\n",
       "      <td>Lala</td>\n",
       "      <td>$44.2M</td>\n",
       "      <td>NaN</td>\n",
       "      <td>{'name': 'Lala', 'Country': 'USA', 'City': 'Pa...</td>\n",
       "      <td>USA</td>\n",
       "      <td>Palo Alto</td>\n",
       "      <td>[37.451151, -122.154369]</td>\n",
       "      <td>37.451151</td>\n",
       "      <td>-122.154369</td>\n",
       "    </tr>\n",
       "    <tr>\n",
       "      <th>2</th>\n",
       "      <td>Joost</td>\n",
       "      <td>$45M</td>\n",
       "      <td>2006.0</td>\n",
       "      <td>{'name': 'Joost', 'Country': 'USA', 'City': 'N...</td>\n",
       "      <td>USA</td>\n",
       "      <td>New York</td>\n",
       "      <td>[40.7464969, -74.0094471]</td>\n",
       "      <td>40.746497</td>\n",
       "      <td>-74.009447</td>\n",
       "    </tr>\n",
       "    <tr>\n",
       "      <th>3</th>\n",
       "      <td>Babelgum</td>\n",
       "      <td>$13.2M</td>\n",
       "      <td>2007.0</td>\n",
       "      <td>{'name': 'Babelgum', 'Country': 'GBR', 'City':...</td>\n",
       "      <td>GBR</td>\n",
       "      <td>London</td>\n",
       "      <td>[53.344104, -6.267494]</td>\n",
       "      <td>53.344104</td>\n",
       "      <td>-6.267494</td>\n",
       "    </tr>\n",
       "    <tr>\n",
       "      <th>4</th>\n",
       "      <td>Sparter</td>\n",
       "      <td>$0</td>\n",
       "      <td>2007.0</td>\n",
       "      <td>{'name': 'Sparter', 'Country': 'USA', 'City': ...</td>\n",
       "      <td>USA</td>\n",
       "      <td>None</td>\n",
       "      <td>[37.09024, -95.712891]</td>\n",
       "      <td>37.090240</td>\n",
       "      <td>-95.712891</td>\n",
       "    </tr>\n",
       "  </tbody>\n",
       "</table>\n",
       "</div>"
      ],
      "text/plain": [
       "       name total_money_raised  founded_year  \\\n",
       "0   Flektor                 $0           NaN   \n",
       "1      Lala             $44.2M           NaN   \n",
       "2     Joost               $45M        2006.0   \n",
       "3  Babelgum             $13.2M        2007.0   \n",
       "4   Sparter                 $0        2007.0   \n",
       "\n",
       "                                              office Country         City  \\\n",
       "0  {'name': 'Flektor', 'Country': 'USA', 'City': ...     USA  Culver City   \n",
       "1  {'name': 'Lala', 'Country': 'USA', 'City': 'Pa...     USA    Palo Alto   \n",
       "2  {'name': 'Joost', 'Country': 'USA', 'City': 'N...     USA     New York   \n",
       "3  {'name': 'Babelgum', 'Country': 'GBR', 'City':...     GBR       London   \n",
       "4  {'name': 'Sparter', 'Country': 'USA', 'City': ...     USA         None   \n",
       "\n",
       "                 Coordinates   Latitude   Longitude  \n",
       "0   [34.025958, -118.379768]  34.025958 -118.379768  \n",
       "1   [37.451151, -122.154369]  37.451151 -122.154369  \n",
       "2  [40.7464969, -74.0094471]  40.746497  -74.009447  \n",
       "3     [53.344104, -6.267494]  53.344104   -6.267494  \n",
       "4     [37.09024, -95.712891]  37.090240  -95.712891  "
      ]
     },
     "execution_count": 36,
     "metadata": {},
     "output_type": "execute_result"
    }
   ],
   "source": [
    "gaming_companies_data[\"Latitude\"]=[x[0]for x in gaming_companies_data[\"Coordinates\"]]\n",
    "gaming_companies_data[\"Longitude\"]=[x[1]for x in gaming_companies_data[\"Coordinates\"]]\n",
    "gaming_companies_data.head()"
   ]
  },
  {
   "cell_type": "code",
   "execution_count": 37,
   "metadata": {},
   "outputs": [],
   "source": [
    "gaming_companies_data=gaming_companies_data.drop(columns=\"office\")\n",
    "gaming_companies_data=gaming_companies_data.rename(columns={\"name\":\"Name\",\"Country\":\"Country_office\",\"City\":\"City_office\",\"Coordinates\":\"Coordinates_office\"})"
   ]
  },
  {
   "cell_type": "code",
   "execution_count": 38,
   "metadata": {},
   "outputs": [
    {
     "data": {
      "text/html": [
       "<div>\n",
       "<style scoped>\n",
       "    .dataframe tbody tr th:only-of-type {\n",
       "        vertical-align: middle;\n",
       "    }\n",
       "\n",
       "    .dataframe tbody tr th {\n",
       "        vertical-align: top;\n",
       "    }\n",
       "\n",
       "    .dataframe thead th {\n",
       "        text-align: right;\n",
       "    }\n",
       "</style>\n",
       "<table border=\"1\" class=\"dataframe\">\n",
       "  <thead>\n",
       "    <tr style=\"text-align: right;\">\n",
       "      <th></th>\n",
       "      <th>Name</th>\n",
       "      <th>total_money_raised</th>\n",
       "      <th>founded_year</th>\n",
       "      <th>Country_office</th>\n",
       "      <th>City_office</th>\n",
       "      <th>Coordinates_office</th>\n",
       "      <th>Latitude</th>\n",
       "      <th>Longitude</th>\n",
       "    </tr>\n",
       "  </thead>\n",
       "  <tbody>\n",
       "    <tr>\n",
       "      <th>0</th>\n",
       "      <td>Flektor</td>\n",
       "      <td>$0</td>\n",
       "      <td>NaN</td>\n",
       "      <td>USA</td>\n",
       "      <td>Culver City</td>\n",
       "      <td>[34.025958, -118.379768]</td>\n",
       "      <td>34.025958</td>\n",
       "      <td>-118.379768</td>\n",
       "    </tr>\n",
       "    <tr>\n",
       "      <th>1</th>\n",
       "      <td>Lala</td>\n",
       "      <td>$44.2M</td>\n",
       "      <td>NaN</td>\n",
       "      <td>USA</td>\n",
       "      <td>Palo Alto</td>\n",
       "      <td>[37.451151, -122.154369]</td>\n",
       "      <td>37.451151</td>\n",
       "      <td>-122.154369</td>\n",
       "    </tr>\n",
       "    <tr>\n",
       "      <th>2</th>\n",
       "      <td>Joost</td>\n",
       "      <td>$45M</td>\n",
       "      <td>2006.0</td>\n",
       "      <td>USA</td>\n",
       "      <td>New York</td>\n",
       "      <td>[40.7464969, -74.0094471]</td>\n",
       "      <td>40.746497</td>\n",
       "      <td>-74.009447</td>\n",
       "    </tr>\n",
       "    <tr>\n",
       "      <th>3</th>\n",
       "      <td>Babelgum</td>\n",
       "      <td>$13.2M</td>\n",
       "      <td>2007.0</td>\n",
       "      <td>GBR</td>\n",
       "      <td>London</td>\n",
       "      <td>[53.344104, -6.267494]</td>\n",
       "      <td>53.344104</td>\n",
       "      <td>-6.267494</td>\n",
       "    </tr>\n",
       "    <tr>\n",
       "      <th>4</th>\n",
       "      <td>Sparter</td>\n",
       "      <td>$0</td>\n",
       "      <td>2007.0</td>\n",
       "      <td>USA</td>\n",
       "      <td>None</td>\n",
       "      <td>[37.09024, -95.712891]</td>\n",
       "      <td>37.090240</td>\n",
       "      <td>-95.712891</td>\n",
       "    </tr>\n",
       "  </tbody>\n",
       "</table>\n",
       "</div>"
      ],
      "text/plain": [
       "       Name total_money_raised  founded_year Country_office  City_office  \\\n",
       "0   Flektor                 $0           NaN            USA  Culver City   \n",
       "1      Lala             $44.2M           NaN            USA    Palo Alto   \n",
       "2     Joost               $45M        2006.0            USA     New York   \n",
       "3  Babelgum             $13.2M        2007.0            GBR       London   \n",
       "4   Sparter                 $0        2007.0            USA         None   \n",
       "\n",
       "          Coordinates_office   Latitude   Longitude  \n",
       "0   [34.025958, -118.379768]  34.025958 -118.379768  \n",
       "1   [37.451151, -122.154369]  37.451151 -122.154369  \n",
       "2  [40.7464969, -74.0094471]  40.746497  -74.009447  \n",
       "3     [53.344104, -6.267494]  53.344104   -6.267494  \n",
       "4     [37.09024, -95.712891]  37.090240  -95.712891  "
      ]
     },
     "execution_count": 38,
     "metadata": {},
     "output_type": "execute_result"
    }
   ],
   "source": [
    "gaming_companies_data.head()"
   ]
  },
  {
   "cell_type": "code",
   "execution_count": 39,
   "metadata": {},
   "outputs": [],
   "source": [
    "gaming_companies_data.to_json(\"OUTPUT/gaming_companies.json\",orient=\"records\")"
   ]
  },
  {
   "cell_type": "markdown",
   "metadata": {},
   "source": [
    "**Ver en que paises y cuidades abren más oficinas las gaming companies:**"
   ]
  },
  {
   "cell_type": "code",
   "execution_count": 40,
   "metadata": {},
   "outputs": [
    {
     "data": {
      "text/plain": [
       "<matplotlib.axes._subplots.AxesSubplot at 0x11d2a2ed0>"
      ]
     },
     "execution_count": 40,
     "metadata": {},
     "output_type": "execute_result"
    },
    {
     "data": {
      "image/png": "[encoded data removed]",
      "text/plain": [
       "<Figure size 432x288 with 1 Axes>"
      ]
     },
     "metadata": {
      "needs_background": "light"
     },
     "output_type": "display_data"
    }
   ],
   "source": [
    "gaming_countries=gaming_companies_data[\"Country_office\"].value_counts().head(20)\n",
    "gaming_countries.plot.bar(title=\"Country Offices - Gaming Companies\")"
   ]
  },
  {
   "cell_type": "code",
   "execution_count": 41,
   "metadata": {},
   "outputs": [
    {
     "data": {
      "text/plain": [
       "<matplotlib.axes._subplots.AxesSubplot at 0x11d33b310>"
      ]
     },
     "execution_count": 41,
     "metadata": {},
     "output_type": "execute_result"
    },
    {
     "data": {
      "image/png": "[encoded data removed]",
      "text/plain": [
       "<Figure size 432x288 with 1 Axes>"
      ]
     },
     "metadata": {
      "needs_background": "light"
     },
     "output_type": "display_data"
    }
   ],
   "source": [
    "filtered=gaming_companies_data[(gaming_companies_data[\"Country_office\"]==\"USA\")]\n",
    "grouped=gaming_companies_data.groupby(\"City_office\").agg({\"founded_year\":\"count\"})\n",
    "results=grouped.sort_values(\"founded_year\",ascending=False).head(20)\n",
    "results.plot.bar(title=\"City Offices USA - Gaming Companies\")"
   ]
  },
  {
   "cell_type": "markdown",
   "metadata": {},
   "source": [
    "### Web Scrapping Top USA Cities for gamers:"
   ]
  },
  {
   "cell_type": "code",
   "execution_count": 42,
   "metadata": {},
   "outputs": [
    {
     "name": "stdout",
     "output_type": "stream",
     "text": [
      "<Response [200]>\n"
     ]
    }
   ],
   "source": [
    "#Web Scrapping to look for top cities for gamers USA:\n",
    "url= \"http://blog.gisuser.com/2019/06/05/report-on-2019s-best-cities-for-gamers/\"\n",
    "html=requests.get(url)\n",
    "print(html)\n",
    "soup=BeautifulSoup(html.text)\n",
    "gamers=soup.select(\"table\")\n",
    "gamers=gamers[0]\n",
    "lineas = gamers.find('tbody').find_all(\"tr\")[1:]"
   ]
  },
  {
   "cell_type": "code",
   "execution_count": 43,
   "metadata": {},
   "outputs": [
    {
     "data": {
      "text/plain": [
       "{'puesto': 1, 'cuidad': 'Seattle, WA'}"
      ]
     },
     "execution_count": 43,
     "metadata": {},
     "output_type": "execute_result"
    }
   ],
   "source": [
    "def WebScrapping(tag):\n",
    "    td = tag.find_all(\"td\")\n",
    "    return {\n",
    "        \"puesto\": int(td[0].text),\n",
    "        \"cuidad\": td[1].text\n",
    "    }\n",
    "\n",
    "WebScrapping(lineas[0])"
   ]
  },
  {
   "cell_type": "code",
   "execution_count": 44,
   "metadata": {},
   "outputs": [
    {
     "data": {
      "text/plain": [
       "[{'puesto': 1, 'cuidad': 'Seattle, WA'},\n",
       " {'puesto': 2, 'cuidad': 'Irvine, CA'},\n",
       " {'puesto': 3, 'cuidad': 'Los Angeles, CA'},\n",
       " {'puesto': 4, 'cuidad': 'Orlando, FL'},\n",
       " {'puesto': 5, 'cuidad': 'Atlanta, GA'},\n",
       " {'puesto': 6, 'cuidad': 'New York, NY'},\n",
       " {'puesto': 7, 'cuidad': 'San Jose, CA'},\n",
       " {'puesto': 8, 'cuidad': 'San Francisco, CA'},\n",
       " {'puesto': 9, 'cuidad': 'Austin, TX'},\n",
       " {'puesto': 10, 'cuidad': 'Raleigh, NC'}]"
      ]
     },
     "execution_count": 44,
     "metadata": {},
     "output_type": "execute_result"
    }
   ],
   "source": [
    "top_cities=list(map(WebScrapping, lineas))\n",
    "top_cities"
   ]
  },
  {
   "cell_type": "markdown",
   "metadata": {},
   "source": [
    "**Si tenemos en cuenta la lista de Top cities para los gamers en USA, la cuidad de Seattle es la cuidad con más gamers en USA, por lo que vamos a explorar las opciones de abrir una office ahi.**"
   ]
  },
  {
   "cell_type": "markdown",
   "metadata": {},
   "source": [
    "*Para ello, vamos a comprobar cuantas companies tienen oficce en Seattle:*"
   ]
  },
  {
   "cell_type": "code",
   "execution_count": 45,
   "metadata": {},
   "outputs": [
    {
     "name": "stdout",
     "output_type": "stream",
     "text": [
      "(14, 5)\n"
     ]
    },
    {
     "data": {
      "text/html": [
       "<div>\n",
       "<style scoped>\n",
       "    .dataframe tbody tr th:only-of-type {\n",
       "        vertical-align: middle;\n",
       "    }\n",
       "\n",
       "    .dataframe tbody tr th {\n",
       "        vertical-align: top;\n",
       "    }\n",
       "\n",
       "    .dataframe thead th {\n",
       "        text-align: right;\n",
       "    }\n",
       "</style>\n",
       "<table border=\"1\" class=\"dataframe\">\n",
       "  <thead>\n",
       "    <tr style=\"text-align: right;\">\n",
       "      <th></th>\n",
       "      <th>_id</th>\n",
       "      <th>Name</th>\n",
       "      <th>Coordinates_office</th>\n",
       "      <th>Latitude</th>\n",
       "      <th>Longitude</th>\n",
       "    </tr>\n",
       "  </thead>\n",
       "  <tbody>\n",
       "    <tr>\n",
       "      <th>0</th>\n",
       "      <td>5e9c7f2f612f4c7097c01c64</td>\n",
       "      <td>iLike</td>\n",
       "      <td>[47.615313, -122.323408]</td>\n",
       "      <td>47.615313</td>\n",
       "      <td>-122.323408</td>\n",
       "    </tr>\n",
       "    <tr>\n",
       "      <th>1</th>\n",
       "      <td>5e9c7f2f612f4c7097c01c71</td>\n",
       "      <td>BuddyTV</td>\n",
       "      <td>[47.61968, -122.356756]</td>\n",
       "      <td>47.619680</td>\n",
       "      <td>-122.356756</td>\n",
       "    </tr>\n",
       "    <tr>\n",
       "      <th>2</th>\n",
       "      <td>5e9c7f2f612f4c7097c01ca7</td>\n",
       "      <td>MediaPops</td>\n",
       "      <td>[47.611012, -122.333523]</td>\n",
       "      <td>47.611012</td>\n",
       "      <td>-122.333523</td>\n",
       "    </tr>\n",
       "    <tr>\n",
       "      <th>3</th>\n",
       "      <td>5e9c7f2f612f4c7097c01cad</td>\n",
       "      <td>FlowPlay</td>\n",
       "      <td>[47.6015315, -122.335943]</td>\n",
       "      <td>47.601532</td>\n",
       "      <td>-122.335943</td>\n",
       "    </tr>\n",
       "    <tr>\n",
       "      <th>4</th>\n",
       "      <td>5e9c7f2f612f4c7097c01cba</td>\n",
       "      <td>Tioti</td>\n",
       "      <td>[47.733603, -122.355579]</td>\n",
       "      <td>47.733603</td>\n",
       "      <td>-122.355579</td>\n",
       "    </tr>\n",
       "  </tbody>\n",
       "</table>\n",
       "</div>"
      ],
      "text/plain": [
       "                        _id       Name         Coordinates_office   Latitude  \\\n",
       "0  5e9c7f2f612f4c7097c01c64      iLike   [47.615313, -122.323408]  47.615313   \n",
       "1  5e9c7f2f612f4c7097c01c71    BuddyTV    [47.61968, -122.356756]  47.619680   \n",
       "2  5e9c7f2f612f4c7097c01ca7  MediaPops   [47.611012, -122.333523]  47.611012   \n",
       "3  5e9c7f2f612f4c7097c01cad   FlowPlay  [47.6015315, -122.335943]  47.601532   \n",
       "4  5e9c7f2f612f4c7097c01cba      Tioti   [47.733603, -122.355579]  47.733603   \n",
       "\n",
       "    Longitude  \n",
       "0 -122.323408  \n",
       "1 -122.356756  \n",
       "2 -122.333523  \n",
       "3 -122.335943  \n",
       "4 -122.355579  "
      ]
     },
     "execution_count": 45,
     "metadata": {},
     "output_type": "execute_result"
    }
   ],
   "source": [
    "data=db.gaming_companies.find({\"City_office\":\"Seattle\"},{\"Name\":1,\"Coordinates_office\":1,\"Latitude\":1,\"Longitude\":1})\n",
    "games_seattle_offices=pd.DataFrame(data)\n",
    "print(games_seattle_offices.shape)\n",
    "games_seattle_offices.head()"
   ]
  },
  {
   "cell_type": "markdown",
   "metadata": {},
   "source": [
    "**Visualizar la localización de cada una de las oficinas con respecto a un punto determinado. En este caso, he cogido como referencia un punto céntrico de la cuidad Seattle Downtown:**"
   ]
  },
  {
   "cell_type": "code",
   "execution_count": 47,
   "metadata": {},
   "outputs": [
    {
     "name": "stdout",
     "output_type": "stream",
     "text": [
      "<Response [200]>\n"
     ]
    },
    {
     "data": {
      "text/plain": [
       "{'coordinates': [-122.33279, 47.62405]}"
      ]
     },
     "execution_count": 47,
     "metadata": {},
     "output_type": "execute_result"
    }
   ],
   "source": [
    "downtown = \"Downtown Seattle\"\n",
    "geocode(downtown)"
   ]
  },
  {
   "cell_type": "code",
   "execution_count": 48,
   "metadata": {},
   "outputs": [],
   "source": [
    "seattle = folium.Map(\n",
    "    location=[47.61186, -122.33581],\n",
    "    zoom_start=12,\n",
    "    tiles='Stamen Terrain'\n",
    ")\n",
    "\n",
    "def AddFolium (latitude,longitud):\n",
    "    folium.Marker(\n",
    "    location=[latitude,longitud],\n",
    "    popup=folium.Popup(max_width=450)\n",
    "    ).add_to(seattle)\n",
    "\n",
    " \n",
    "punto1=AddFolium(games_seattle_offices[\"Latitude\"][0],games_seattle_offices[\"Longitude\"][0])\n",
    "punto2=AddFolium(games_seattle_offices[\"Latitude\"][1],games_seattle_offices[\"Longitude\"][1])\n",
    "punto3=AddFolium(games_seattle_offices[\"Latitude\"][2],games_seattle_offices[\"Longitude\"][2])\n",
    "punto4=AddFolium(games_seattle_offices[\"Latitude\"][3],games_seattle_offices[\"Longitude\"][3])\n",
    "punto5=AddFolium(games_seattle_offices[\"Latitude\"][4],games_seattle_offices[\"Longitude\"][4])\n",
    "punto6=AddFolium(games_seattle_offices[\"Latitude\"][5],games_seattle_offices[\"Longitude\"][5])\n",
    "punto7=AddFolium(games_seattle_offices[\"Latitude\"][6],games_seattle_offices[\"Longitude\"][6])\n",
    "punto8=AddFolium(games_seattle_offices[\"Latitude\"][7],games_seattle_offices[\"Longitude\"][7])\n",
    "punto9=AddFolium(games_seattle_offices[\"Latitude\"][8],games_seattle_offices[\"Longitude\"][8])\n",
    "punto10=AddFolium(games_seattle_offices[\"Latitude\"][9],games_seattle_offices[\"Longitude\"][9])\n",
    "punto11=AddFolium(games_seattle_offices[\"Latitude\"][10],games_seattle_offices[\"Longitude\"][10])\n",
    "punto12=AddFolium(games_seattle_offices[\"Latitude\"][11],games_seattle_offices[\"Longitude\"][11])\n",
    "punto13=AddFolium(games_seattle_offices[\"Latitude\"][12],games_seattle_offices[\"Longitude\"][12])\n",
    "punto14=AddFolium(games_seattle_offices[\"Latitude\"][13],games_seattle_offices[\"Longitude\"][13])"
   ]
  },
  {
   "cell_type": "code",
   "execution_count": 54,
   "metadata": {},
   "outputs": [
    {
     "data": {
      "text/html": [
       "<div style=\"width:100%;\"><div style=\"position:relative;width:100%;height:0;padding-bottom:60%;\"><iframe src=\"about:blank\" style=\"position:absolute;width:100%;height:100%;left:0;top:0;border:none !important;\" data-html=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 onload=\"this.contentDocument.open();this.contentDocument.write(atob(this.getAttribute('data-html')));this.contentDocument.close();\" allowfullscreen webkitallowfullscreen mozallowfullscreen></iframe></div></div>"
      ],
      "text/plain": [
       "<folium.folium.Map at 0x11d269550>"
      ]
     },
     "metadata": {},
     "output_type": "display_data"
    }
   ],
   "source": [
    "display(seattle)"
   ]
  },
  {
   "cell_type": "code",
   "execution_count": 55,
   "metadata": {},
   "outputs": [],
   "source": [
    "seattle.save(\"GamingCompanies_Seattle.html\")"
   ]
  },
  {
   "cell_type": "code",
   "execution_count": null,
   "metadata": {},
   "outputs": [],
   "source": []
  }
 ],
 "metadata": {
  "kernelspec": {
   "display_name": "Python 3",
   "language": "python",
   "name": "python3"
  },
  "language_info": {
   "codemirror_mode": {
    "name": "ipython",
    "version": 3
   },
   "file_extension": ".py",
   "mimetype": "text/x-python",
   "name": "python",
   "nbconvert_exporter": "python",
   "pygments_lexer": "ipython3",
   "version": "3.7.7"
  }
 },
 "nbformat": 4,
 "nbformat_minor": 4
}
